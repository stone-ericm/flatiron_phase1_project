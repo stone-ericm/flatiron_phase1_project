{
 "cells": [
  {
   "cell_type": "markdown",
   "metadata": {},
   "source": [
    "Imports"
   ]
  },
  {
   "cell_type": "code",
   "execution_count": 5,
   "metadata": {},
   "outputs": [],
   "source": [
    "import numpy as np\n",
    "import matplotlib.pyplot as plt\n",
    "%matplotlib inline\n",
    "import pandas as pd\n",
    "import os\n",
    "import seaborn as sns\n",
    "import requests\n",
    "from bs4 import BeautifulSoup\n",
    "import re\n",
    "import json\n",
    "from inspect import currentframe, getframeinfo"
   ]
  },
  {
   "cell_type": "markdown",
   "metadata": {},
   "source": [
    "Read in provided CSVs - I didn't end up using the tsv files so I commented out their import lines"
   ]
  },
  {
   "cell_type": "code",
   "execution_count": 6,
   "metadata": {},
   "outputs": [
    {
     "name": "stdout",
     "output_type": "stream",
     "text": [
      "bom.movie_gross.csv\n",
      "name.basics.csv\n",
      "rt.movie_info.tsv\n",
      "rt.reviews.tsv\n",
      "title.akas.csv\n",
      "title.basics.csv\n",
      "title.crew.csv\n",
      "title.principals.csv\n",
      "title.ratings.csv\n",
      "tmdb.movies.csv\n",
      "tn.movie_budgets.csv\n",
      "Finished import\n"
     ]
    }
   ],
   "source": [
    "data_imports = {}\n",
    "\n",
    "# Importing all the provided CSVs and TSVs to a dictionary\n",
    "for file in os.listdir(\"zippedData\"):\n",
    "    print(file)\n",
    "    if file[-3:] == 'csv':\n",
    "        data_imports[file[:-4]] = pd.read_csv('zippedData/' + str(file))\n",
    "    elif file[-3:] == 'tsv':\n",
    "        data_imports[file[:-4]] = pd.read_csv('zippedData/' + str(file), sep = '\\t')\n",
    "\n",
    "print(\"Finished import\")"
   ]
  },
  {
   "cell_type": "markdown",
   "metadata": {},
   "source": [
    "Starting with Bom.Movie_Gross, I want to set the title column as the index if possible so first I check to make sure there are no duplicated titles."
   ]
  },
  {
   "cell_type": "code",
   "execution_count": 12,
   "metadata": {},
   "outputs": [
    {
     "data": {
      "text/html": [
       "<div>\n",
       "<style scoped>\n",
       "    .dataframe tbody tr th:only-of-type {\n",
       "        vertical-align: middle;\n",
       "    }\n",
       "\n",
       "    .dataframe tbody tr th {\n",
       "        vertical-align: top;\n",
       "    }\n",
       "\n",
       "    .dataframe thead th {\n",
       "        text-align: right;\n",
       "    }\n",
       "</style>\n",
       "<table border=\"1\" class=\"dataframe\">\n",
       "  <thead>\n",
       "    <tr style=\"text-align: right;\">\n",
       "      <th></th>\n",
       "      <th>title</th>\n",
       "      <th>studio</th>\n",
       "      <th>domestic_gross</th>\n",
       "      <th>foreign_gross</th>\n",
       "      <th>year</th>\n",
       "    </tr>\n",
       "  </thead>\n",
       "  <tbody>\n",
       "    <tr>\n",
       "      <th>317</th>\n",
       "      <td>Bluebeard</td>\n",
       "      <td>Strand</td>\n",
       "      <td>33500.0</td>\n",
       "      <td>5200</td>\n",
       "      <td>2010</td>\n",
       "    </tr>\n",
       "    <tr>\n",
       "      <th>3045</th>\n",
       "      <td>Bluebeard</td>\n",
       "      <td>WGUSA</td>\n",
       "      <td>43100.0</td>\n",
       "      <td>NaN</td>\n",
       "      <td>2017</td>\n",
       "    </tr>\n",
       "  </tbody>\n",
       "</table>\n",
       "</div>"
      ],
      "text/plain": [
       "          title  studio  domestic_gross foreign_gross  year\n",
       "317   Bluebeard  Strand         33500.0          5200  2010\n",
       "3045  Bluebeard   WGUSA         43100.0           NaN  2017"
      ]
     },
     "execution_count": 12,
     "metadata": {},
     "output_type": "execute_result"
    }
   ],
   "source": [
    "bom_movie_gross = data_imports['bom.movie_gross']\n",
    "bom_movie_gross[bom_movie_gross['title'].duplicated(keep=False)]"
   ]
  },
  {
   "cell_type": "markdown",
   "metadata": {},
   "source": [
    "It turns out that there are two movies named <em>Bluebeard</em>. To fix this we'll append their release years to the title."
   ]
  },
  {
   "cell_type": "code",
   "execution_count": 13,
   "metadata": {},
   "outputs": [],
   "source": [
    "for each in bom_movie_gross.loc[(bom_movie_gross.title == 'Bluebeard'), 'year']:\n",
    "    bom_movie_gross.loc[(bom_movie_gross.title == 'Bluebeard') &\n",
    "                        (bom_movie_gross.year == each), 'title'] = 'Bluebeard' + ' (' + str(each) + ')'\n",
    "bom_movie_gross = bom_movie_gross.set_index('title')"
   ]
  },
  {
   "cell_type": "markdown",
   "metadata": {},
   "source": [
    "## In an effort to explore the data, we'll merge title.basics with title.ratings into imdb_df\n",
    "\n"
   ]
  },
  {
   "cell_type": "code",
   "execution_count": 15,
   "metadata": {},
   "outputs": [],
   "source": [
    "title_basics = data_imports['title.basics']\n",
    "title_ratings = data_imports['title.ratings']\n",
    "\n",
    "title_basics = title_basics.set_index('tconst')\n",
    "title_ratings = title_ratings.set_index('tconst')\n",
    "imdb_df = title_basics.join(title_ratings, on='tconst')\n"
   ]
  },
  {
   "cell_type": "markdown",
   "metadata": {},
   "source": [
    "## Merge imdb_df with tmdb.movies"
   ]
  },
  {
   "cell_type": "code",
   "execution_count": 17,
   "metadata": {},
   "outputs": [
    {
     "name": "stderr",
     "output_type": "stream",
     "text": [
      "/home/stonehengee/anaconda3/lib/python3.7/site-packages/ipykernel_launcher.py:3: SettingWithCopyWarning: \n",
      "A value is trying to be set on a copy of a slice from a DataFrame.\n",
      "Try using .loc[row_indexer,col_indexer] = value instead\n",
      "\n",
      "See the caveats in the documentation: http://pandas.pydata.org/pandas-docs/stable/indexing.html#indexing-view-versus-copy\n",
      "  This is separate from the ipykernel package so we can avoid doing imports until\n"
     ]
    },
    {
     "data": {
      "text/html": [
       "<div>\n",
       "<style scoped>\n",
       "    .dataframe tbody tr th:only-of-type {\n",
       "        vertical-align: middle;\n",
       "    }\n",
       "\n",
       "    .dataframe tbody tr th {\n",
       "        vertical-align: top;\n",
       "    }\n",
       "\n",
       "    .dataframe thead th {\n",
       "        text-align: right;\n",
       "    }\n",
       "</style>\n",
       "<table border=\"1\" class=\"dataframe\">\n",
       "  <thead>\n",
       "    <tr style=\"text-align: right;\">\n",
       "      <th></th>\n",
       "      <th></th>\n",
       "      <th>Unnamed: 0</th>\n",
       "      <th>genre_ids</th>\n",
       "      <th>id</th>\n",
       "      <th>original_language</th>\n",
       "      <th>original_title</th>\n",
       "      <th>popularity</th>\n",
       "      <th>release_date</th>\n",
       "      <th>vote_average</th>\n",
       "      <th>vote_count</th>\n",
       "    </tr>\n",
       "    <tr>\n",
       "      <th>start_year</th>\n",
       "      <th>title</th>\n",
       "      <th></th>\n",
       "      <th></th>\n",
       "      <th></th>\n",
       "      <th></th>\n",
       "      <th></th>\n",
       "      <th></th>\n",
       "      <th></th>\n",
       "      <th></th>\n",
       "      <th></th>\n",
       "    </tr>\n",
       "  </thead>\n",
       "  <tbody>\n",
       "    <tr>\n",
       "      <th rowspan=\"3\" valign=\"top\">2010</th>\n",
       "      <th>Harry Potter and the Deathly Hallows: Part 1</th>\n",
       "      <td>0</td>\n",
       "      <td>[12, 14, 10751]</td>\n",
       "      <td>12444</td>\n",
       "      <td>en</td>\n",
       "      <td>Harry Potter and the Deathly Hallows: Part 1</td>\n",
       "      <td>33.533</td>\n",
       "      <td>2010-11-19</td>\n",
       "      <td>7.7</td>\n",
       "      <td>10788</td>\n",
       "    </tr>\n",
       "    <tr>\n",
       "      <th>How to Train Your Dragon</th>\n",
       "      <td>1</td>\n",
       "      <td>[14, 12, 16, 10751]</td>\n",
       "      <td>10191</td>\n",
       "      <td>en</td>\n",
       "      <td>How to Train Your Dragon</td>\n",
       "      <td>28.734</td>\n",
       "      <td>2010-03-26</td>\n",
       "      <td>7.7</td>\n",
       "      <td>7610</td>\n",
       "    </tr>\n",
       "    <tr>\n",
       "      <th>Iron Man 2</th>\n",
       "      <td>2</td>\n",
       "      <td>[12, 28, 878]</td>\n",
       "      <td>10138</td>\n",
       "      <td>en</td>\n",
       "      <td>Iron Man 2</td>\n",
       "      <td>28.515</td>\n",
       "      <td>2010-05-07</td>\n",
       "      <td>6.8</td>\n",
       "      <td>12368</td>\n",
       "    </tr>\n",
       "    <tr>\n",
       "      <th>1995</th>\n",
       "      <th>Toy Story</th>\n",
       "      <td>3</td>\n",
       "      <td>[16, 35, 10751]</td>\n",
       "      <td>862</td>\n",
       "      <td>en</td>\n",
       "      <td>Toy Story</td>\n",
       "      <td>28.005</td>\n",
       "      <td>1995-11-22</td>\n",
       "      <td>7.9</td>\n",
       "      <td>10174</td>\n",
       "    </tr>\n",
       "    <tr>\n",
       "      <th>2010</th>\n",
       "      <th>Inception</th>\n",
       "      <td>4</td>\n",
       "      <td>[28, 878, 12]</td>\n",
       "      <td>27205</td>\n",
       "      <td>en</td>\n",
       "      <td>Inception</td>\n",
       "      <td>27.920</td>\n",
       "      <td>2010-07-16</td>\n",
       "      <td>8.3</td>\n",
       "      <td>22186</td>\n",
       "    </tr>\n",
       "  </tbody>\n",
       "</table>\n",
       "</div>"
      ],
      "text/plain": [
       "                                                         Unnamed: 0  \\\n",
       "start_year title                                                      \n",
       "2010       Harry Potter and the Deathly Hallows: Part 1           0   \n",
       "           How to Train Your Dragon                               1   \n",
       "           Iron Man 2                                             2   \n",
       "1995       Toy Story                                              3   \n",
       "2010       Inception                                              4   \n",
       "\n",
       "                                                                   genre_ids  \\\n",
       "start_year title                                                               \n",
       "2010       Harry Potter and the Deathly Hallows: Part 1      [12, 14, 10751]   \n",
       "           How to Train Your Dragon                      [14, 12, 16, 10751]   \n",
       "           Iron Man 2                                          [12, 28, 878]   \n",
       "1995       Toy Story                                         [16, 35, 10751]   \n",
       "2010       Inception                                           [28, 878, 12]   \n",
       "\n",
       "                                                            id  \\\n",
       "start_year title                                                 \n",
       "2010       Harry Potter and the Deathly Hallows: Part 1  12444   \n",
       "           How to Train Your Dragon                      10191   \n",
       "           Iron Man 2                                    10138   \n",
       "1995       Toy Story                                       862   \n",
       "2010       Inception                                     27205   \n",
       "\n",
       "                                                        original_language  \\\n",
       "start_year title                                                            \n",
       "2010       Harry Potter and the Deathly Hallows: Part 1                en   \n",
       "           How to Train Your Dragon                                    en   \n",
       "           Iron Man 2                                                  en   \n",
       "1995       Toy Story                                                   en   \n",
       "2010       Inception                                                   en   \n",
       "\n",
       "                                                                                       original_title  \\\n",
       "start_year title                                                                                        \n",
       "2010       Harry Potter and the Deathly Hallows: Part 1  Harry Potter and the Deathly Hallows: Part 1   \n",
       "           How to Train Your Dragon                                          How to Train Your Dragon   \n",
       "           Iron Man 2                                                                      Iron Man 2   \n",
       "1995       Toy Story                                                                        Toy Story   \n",
       "2010       Inception                                                                        Inception   \n",
       "\n",
       "                                                         popularity  \\\n",
       "start_year title                                                      \n",
       "2010       Harry Potter and the Deathly Hallows: Part 1      33.533   \n",
       "           How to Train Your Dragon                          28.734   \n",
       "           Iron Man 2                                        28.515   \n",
       "1995       Toy Story                                         28.005   \n",
       "2010       Inception                                         27.920   \n",
       "\n",
       "                                                        release_date  \\\n",
       "start_year title                                                       \n",
       "2010       Harry Potter and the Deathly Hallows: Part 1   2010-11-19   \n",
       "           How to Train Your Dragon                       2010-03-26   \n",
       "           Iron Man 2                                     2010-05-07   \n",
       "1995       Toy Story                                      1995-11-22   \n",
       "2010       Inception                                      2010-07-16   \n",
       "\n",
       "                                                         vote_average  \\\n",
       "start_year title                                                        \n",
       "2010       Harry Potter and the Deathly Hallows: Part 1           7.7   \n",
       "           How to Train Your Dragon                               7.7   \n",
       "           Iron Man 2                                             6.8   \n",
       "1995       Toy Story                                              7.9   \n",
       "2010       Inception                                              8.3   \n",
       "\n",
       "                                                         vote_count  \n",
       "start_year title                                                     \n",
       "2010       Harry Potter and the Deathly Hallows: Part 1       10788  \n",
       "           How to Train Your Dragon                            7610  \n",
       "           Iron Man 2                                         12368  \n",
       "1995       Toy Story                                          10174  \n",
       "2010       Inception                                          22186  "
      ]
     },
     "execution_count": 17,
     "metadata": {},
     "output_type": "execute_result"
    }
   ],
   "source": [
    "tmdb_movies = data_imports['tmdb.movies']\n",
    "tmdb_movies = tmdb_movies.drop_duplicates(subset = ['id'])\n",
    "tmdb_movies['start_year'] = tmdb_movies['release_date'].apply(lambda x: int(x[:4]))\n",
    "tmdb_movies = tmdb_movies.set_index(['start_year', 'title'])\n",
    "tmdb_movies.head()"
   ]
  },
  {
   "cell_type": "code",
   "execution_count": null,
   "metadata": {},
   "outputs": [],
   "source": []
  }
 ],
 "metadata": {
  "kernelspec": {
   "display_name": "Python 3",
   "language": "python",
   "name": "python3"
  },
  "language_info": {
   "codemirror_mode": {
    "name": "ipython",
    "version": 3
   },
   "file_extension": ".py",
   "mimetype": "text/x-python",
   "name": "python",
   "nbconvert_exporter": "python",
   "pygments_lexer": "ipython3",
   "version": "3.7.3"
  }
 },
 "nbformat": 4,
 "nbformat_minor": 2
}
