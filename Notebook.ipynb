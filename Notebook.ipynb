{
 "cells": [
  {
   "cell_type": "code",
   "execution_count": null,
   "metadata": {},
   "outputs": [],
   "source": [
    "working_df = pd.read_csv('post_wiki_scrape.csv')\n",
    "working_df = working_df.set_index(['start_year', 'title'])\n",
    "working_df.head()"
   ]
  },
  {
   "cell_type": "markdown",
   "metadata": {},
   "source": [
    "### Imports"
   ]
  },
  {
   "cell_type": "code",
   "execution_count": 1,
   "metadata": {},
   "outputs": [],
   "source": [
    "import numpy as np\n",
    "import matplotlib.pyplot as plt\n",
    "%matplotlib inline\n",
    "import pandas as pd\n",
    "import os\n",
    "import seaborn as sns\n",
    "import requests\n",
    "from bs4 import BeautifulSoup\n",
    "import re\n",
    "import json\n",
    "from inspect import currentframe, getframeinfo"
   ]
  },
  {
   "cell_type": "markdown",
   "metadata": {},
   "source": [
    "### Read in provided data"
   ]
  },
  {
   "cell_type": "code",
   "execution_count": 2,
   "metadata": {},
   "outputs": [
    {
     "name": "stdout",
     "output_type": "stream",
     "text": [
      "bom.movie_gross.csv\n",
      "name.basics.csv\n",
      "rt.movie_info.tsv\n",
      "rt.reviews.tsv\n",
      "title.akas.csv\n",
      "title.basics.csv\n",
      "title.crew.csv\n",
      "title.principals.csv\n",
      "title.ratings.csv\n",
      "tmdb.movies.csv\n",
      "tn.movie_budgets.csv\n",
      "Finished import\n"
     ]
    }
   ],
   "source": [
    "data_imports = {}\n",
    "\n",
    "# Importing all the provided CSVs and TSVs to a dictionary\n",
    "for file in os.listdir(\"zippedData\"):\n",
    "    print(file)\n",
    "    if file[-3:] == 'csv':\n",
    "        data_imports[file[:-4]] = pd.read_csv('zippedData/' + str(file))\n",
    "    elif file[-3:] == 'tsv':\n",
    "        data_imports[file[:-4]] = pd.read_csv('zippedData/' + str(file), sep = '\\t', encoding= 'unicode_escape')\n",
    "\n",
    "print(\"Finished import\")"
   ]
  },
  {
   "cell_type": "markdown",
   "metadata": {},
   "source": [
    "### Starting with Bom.Movie_Gross, I want to set the index as release year and then title"
   ]
  },
  {
   "cell_type": "code",
   "execution_count": 3,
   "metadata": {},
   "outputs": [],
   "source": [
    "bom_movie_gross = data_imports['bom.movie_gross']\n",
    "# bom_movie_gross[bom_movie_gross['title'].duplicated(keep=False)]"
   ]
  },
  {
   "cell_type": "code",
   "execution_count": 4,
   "metadata": {},
   "outputs": [
    {
     "data": {
      "text/html": [
       "<div>\n",
       "<style scoped>\n",
       "    .dataframe tbody tr th:only-of-type {\n",
       "        vertical-align: middle;\n",
       "    }\n",
       "\n",
       "    .dataframe tbody tr th {\n",
       "        vertical-align: top;\n",
       "    }\n",
       "\n",
       "    .dataframe thead th {\n",
       "        text-align: right;\n",
       "    }\n",
       "</style>\n",
       "<table border=\"1\" class=\"dataframe\">\n",
       "  <thead>\n",
       "    <tr style=\"text-align: right;\">\n",
       "      <th></th>\n",
       "      <th></th>\n",
       "      <th>studio</th>\n",
       "      <th>domestic_gross</th>\n",
       "      <th>foreign_gross</th>\n",
       "    </tr>\n",
       "    <tr>\n",
       "      <th>start_year</th>\n",
       "      <th>title</th>\n",
       "      <th></th>\n",
       "      <th></th>\n",
       "      <th></th>\n",
       "    </tr>\n",
       "  </thead>\n",
       "  <tbody>\n",
       "    <tr>\n",
       "      <th rowspan=\"5\" valign=\"top\">2010</th>\n",
       "      <th>Toy Story 3</th>\n",
       "      <td>BV</td>\n",
       "      <td>415000000.0</td>\n",
       "      <td>652000000</td>\n",
       "    </tr>\n",
       "    <tr>\n",
       "      <th>Alice in Wonderland (2010)</th>\n",
       "      <td>BV</td>\n",
       "      <td>334200000.0</td>\n",
       "      <td>691300000</td>\n",
       "    </tr>\n",
       "    <tr>\n",
       "      <th>Harry Potter and the Deathly Hallows Part 1</th>\n",
       "      <td>WB</td>\n",
       "      <td>296000000.0</td>\n",
       "      <td>664300000</td>\n",
       "    </tr>\n",
       "    <tr>\n",
       "      <th>Inception</th>\n",
       "      <td>WB</td>\n",
       "      <td>292600000.0</td>\n",
       "      <td>535700000</td>\n",
       "    </tr>\n",
       "    <tr>\n",
       "      <th>Shrek Forever After</th>\n",
       "      <td>P/DW</td>\n",
       "      <td>238700000.0</td>\n",
       "      <td>513900000</td>\n",
       "    </tr>\n",
       "  </tbody>\n",
       "</table>\n",
       "</div>"
      ],
      "text/plain": [
       "                                                       studio  domestic_gross  \\\n",
       "start_year title                                                                \n",
       "2010       Toy Story 3                                     BV     415000000.0   \n",
       "           Alice in Wonderland (2010)                      BV     334200000.0   \n",
       "           Harry Potter and the Deathly Hallows Part 1     WB     296000000.0   \n",
       "           Inception                                       WB     292600000.0   \n",
       "           Shrek Forever After                           P/DW     238700000.0   \n",
       "\n",
       "                                                       foreign_gross  \n",
       "start_year title                                                      \n",
       "2010       Toy Story 3                                     652000000  \n",
       "           Alice in Wonderland (2010)                      691300000  \n",
       "           Harry Potter and the Deathly Hallows Part 1     664300000  \n",
       "           Inception                                       535700000  \n",
       "           Shrek Forever After                             513900000  "
      ]
     },
     "execution_count": 4,
     "metadata": {},
     "output_type": "execute_result"
    }
   ],
   "source": [
    "bom_movie_gross = bom_movie_gross.rename(columns = {'year': 'start_year'})\n",
    "bom_movie_gross = bom_movie_gross.set_index(['start_year', 'title'])\n",
    "bom_movie_gross.head()"
   ]
  },
  {
   "cell_type": "markdown",
   "metadata": {},
   "source": [
    "## In an effort to explore the data, we'll merge title.basics with title.ratings into imdb_df\n",
    "\n"
   ]
  },
  {
   "cell_type": "code",
   "execution_count": 5,
   "metadata": {},
   "outputs": [],
   "source": [
    "title_basics = data_imports['title.basics']\n",
    "title_ratings = data_imports['title.ratings']\n",
    "\n",
    "title_basics = title_basics.set_index('tconst')\n",
    "title_ratings = title_ratings.set_index('tconst')\n",
    "imdb_df = title_basics.join(title_ratings, on='tconst')\n"
   ]
  },
  {
   "cell_type": "markdown",
   "metadata": {},
   "source": [
    "## Merge imdb_df with tmdb.movies"
   ]
  },
  {
   "cell_type": "code",
   "execution_count": 6,
   "metadata": {},
   "outputs": [
    {
     "name": "stderr",
     "output_type": "stream",
     "text": [
      "/home/stonehengee/anaconda3/lib/python3.7/site-packages/ipykernel_launcher.py:3: SettingWithCopyWarning: \n",
      "A value is trying to be set on a copy of a slice from a DataFrame.\n",
      "Try using .loc[row_indexer,col_indexer] = value instead\n",
      "\n",
      "See the caveats in the documentation: http://pandas.pydata.org/pandas-docs/stable/indexing.html#indexing-view-versus-copy\n",
      "  This is separate from the ipykernel package so we can avoid doing imports until\n"
     ]
    },
    {
     "data": {
      "text/html": [
       "<div>\n",
       "<style scoped>\n",
       "    .dataframe tbody tr th:only-of-type {\n",
       "        vertical-align: middle;\n",
       "    }\n",
       "\n",
       "    .dataframe tbody tr th {\n",
       "        vertical-align: top;\n",
       "    }\n",
       "\n",
       "    .dataframe thead th {\n",
       "        text-align: right;\n",
       "    }\n",
       "</style>\n",
       "<table border=\"1\" class=\"dataframe\">\n",
       "  <thead>\n",
       "    <tr style=\"text-align: right;\">\n",
       "      <th></th>\n",
       "      <th></th>\n",
       "      <th>Unnamed: 0</th>\n",
       "      <th>genre_ids</th>\n",
       "      <th>id</th>\n",
       "      <th>original_language</th>\n",
       "      <th>original_title</th>\n",
       "      <th>popularity</th>\n",
       "      <th>release_date</th>\n",
       "      <th>vote_average</th>\n",
       "      <th>vote_count</th>\n",
       "    </tr>\n",
       "    <tr>\n",
       "      <th>start_year</th>\n",
       "      <th>title</th>\n",
       "      <th></th>\n",
       "      <th></th>\n",
       "      <th></th>\n",
       "      <th></th>\n",
       "      <th></th>\n",
       "      <th></th>\n",
       "      <th></th>\n",
       "      <th></th>\n",
       "      <th></th>\n",
       "    </tr>\n",
       "  </thead>\n",
       "  <tbody>\n",
       "    <tr>\n",
       "      <th rowspan=\"3\" valign=\"top\">2010</th>\n",
       "      <th>Harry Potter and the Deathly Hallows: Part 1</th>\n",
       "      <td>0</td>\n",
       "      <td>[12, 14, 10751]</td>\n",
       "      <td>12444</td>\n",
       "      <td>en</td>\n",
       "      <td>Harry Potter and the Deathly Hallows: Part 1</td>\n",
       "      <td>33.533</td>\n",
       "      <td>2010-11-19</td>\n",
       "      <td>7.7</td>\n",
       "      <td>10788</td>\n",
       "    </tr>\n",
       "    <tr>\n",
       "      <th>How to Train Your Dragon</th>\n",
       "      <td>1</td>\n",
       "      <td>[14, 12, 16, 10751]</td>\n",
       "      <td>10191</td>\n",
       "      <td>en</td>\n",
       "      <td>How to Train Your Dragon</td>\n",
       "      <td>28.734</td>\n",
       "      <td>2010-03-26</td>\n",
       "      <td>7.7</td>\n",
       "      <td>7610</td>\n",
       "    </tr>\n",
       "    <tr>\n",
       "      <th>Iron Man 2</th>\n",
       "      <td>2</td>\n",
       "      <td>[12, 28, 878]</td>\n",
       "      <td>10138</td>\n",
       "      <td>en</td>\n",
       "      <td>Iron Man 2</td>\n",
       "      <td>28.515</td>\n",
       "      <td>2010-05-07</td>\n",
       "      <td>6.8</td>\n",
       "      <td>12368</td>\n",
       "    </tr>\n",
       "    <tr>\n",
       "      <th>1995</th>\n",
       "      <th>Toy Story</th>\n",
       "      <td>3</td>\n",
       "      <td>[16, 35, 10751]</td>\n",
       "      <td>862</td>\n",
       "      <td>en</td>\n",
       "      <td>Toy Story</td>\n",
       "      <td>28.005</td>\n",
       "      <td>1995-11-22</td>\n",
       "      <td>7.9</td>\n",
       "      <td>10174</td>\n",
       "    </tr>\n",
       "    <tr>\n",
       "      <th>2010</th>\n",
       "      <th>Inception</th>\n",
       "      <td>4</td>\n",
       "      <td>[28, 878, 12]</td>\n",
       "      <td>27205</td>\n",
       "      <td>en</td>\n",
       "      <td>Inception</td>\n",
       "      <td>27.920</td>\n",
       "      <td>2010-07-16</td>\n",
       "      <td>8.3</td>\n",
       "      <td>22186</td>\n",
       "    </tr>\n",
       "  </tbody>\n",
       "</table>\n",
       "</div>"
      ],
      "text/plain": [
       "                                                         Unnamed: 0  \\\n",
       "start_year title                                                      \n",
       "2010       Harry Potter and the Deathly Hallows: Part 1           0   \n",
       "           How to Train Your Dragon                               1   \n",
       "           Iron Man 2                                             2   \n",
       "1995       Toy Story                                              3   \n",
       "2010       Inception                                              4   \n",
       "\n",
       "                                                                   genre_ids  \\\n",
       "start_year title                                                               \n",
       "2010       Harry Potter and the Deathly Hallows: Part 1      [12, 14, 10751]   \n",
       "           How to Train Your Dragon                      [14, 12, 16, 10751]   \n",
       "           Iron Man 2                                          [12, 28, 878]   \n",
       "1995       Toy Story                                         [16, 35, 10751]   \n",
       "2010       Inception                                           [28, 878, 12]   \n",
       "\n",
       "                                                            id  \\\n",
       "start_year title                                                 \n",
       "2010       Harry Potter and the Deathly Hallows: Part 1  12444   \n",
       "           How to Train Your Dragon                      10191   \n",
       "           Iron Man 2                                    10138   \n",
       "1995       Toy Story                                       862   \n",
       "2010       Inception                                     27205   \n",
       "\n",
       "                                                        original_language  \\\n",
       "start_year title                                                            \n",
       "2010       Harry Potter and the Deathly Hallows: Part 1                en   \n",
       "           How to Train Your Dragon                                    en   \n",
       "           Iron Man 2                                                  en   \n",
       "1995       Toy Story                                                   en   \n",
       "2010       Inception                                                   en   \n",
       "\n",
       "                                                                                       original_title  \\\n",
       "start_year title                                                                                        \n",
       "2010       Harry Potter and the Deathly Hallows: Part 1  Harry Potter and the Deathly Hallows: Part 1   \n",
       "           How to Train Your Dragon                                          How to Train Your Dragon   \n",
       "           Iron Man 2                                                                      Iron Man 2   \n",
       "1995       Toy Story                                                                        Toy Story   \n",
       "2010       Inception                                                                        Inception   \n",
       "\n",
       "                                                         popularity  \\\n",
       "start_year title                                                      \n",
       "2010       Harry Potter and the Deathly Hallows: Part 1      33.533   \n",
       "           How to Train Your Dragon                          28.734   \n",
       "           Iron Man 2                                        28.515   \n",
       "1995       Toy Story                                         28.005   \n",
       "2010       Inception                                         27.920   \n",
       "\n",
       "                                                        release_date  \\\n",
       "start_year title                                                       \n",
       "2010       Harry Potter and the Deathly Hallows: Part 1   2010-11-19   \n",
       "           How to Train Your Dragon                       2010-03-26   \n",
       "           Iron Man 2                                     2010-05-07   \n",
       "1995       Toy Story                                      1995-11-22   \n",
       "2010       Inception                                      2010-07-16   \n",
       "\n",
       "                                                         vote_average  \\\n",
       "start_year title                                                        \n",
       "2010       Harry Potter and the Deathly Hallows: Part 1           7.7   \n",
       "           How to Train Your Dragon                               7.7   \n",
       "           Iron Man 2                                             6.8   \n",
       "1995       Toy Story                                              7.9   \n",
       "2010       Inception                                              8.3   \n",
       "\n",
       "                                                         vote_count  \n",
       "start_year title                                                     \n",
       "2010       Harry Potter and the Deathly Hallows: Part 1       10788  \n",
       "           How to Train Your Dragon                            7610  \n",
       "           Iron Man 2                                         12368  \n",
       "1995       Toy Story                                          10174  \n",
       "2010       Inception                                          22186  "
      ]
     },
     "execution_count": 6,
     "metadata": {},
     "output_type": "execute_result"
    }
   ],
   "source": [
    "tmdb_movies = data_imports['tmdb.movies']\n",
    "tmdb_movies = tmdb_movies.drop_duplicates(subset = ['id'])\n",
    "tmdb_movies['start_year'] = tmdb_movies['release_date'].apply(lambda x: int(x[:4]))\n",
    "tmdb_movies = tmdb_movies.set_index(['start_year', 'title'])\n",
    "tmdb_movies.head()"
   ]
  },
  {
   "cell_type": "code",
   "execution_count": 7,
   "metadata": {},
   "outputs": [
    {
     "data": {
      "text/html": [
       "<div>\n",
       "<style scoped>\n",
       "    .dataframe tbody tr th:only-of-type {\n",
       "        vertical-align: middle;\n",
       "    }\n",
       "\n",
       "    .dataframe tbody tr th {\n",
       "        vertical-align: top;\n",
       "    }\n",
       "\n",
       "    .dataframe thead th {\n",
       "        text-align: right;\n",
       "    }\n",
       "</style>\n",
       "<table border=\"1\" class=\"dataframe\">\n",
       "  <thead>\n",
       "    <tr style=\"text-align: right;\">\n",
       "      <th></th>\n",
       "      <th></th>\n",
       "      <th>tconst</th>\n",
       "      <th>original_title_imdb</th>\n",
       "      <th>runtime_minutes</th>\n",
       "      <th>genres</th>\n",
       "      <th>averagerating</th>\n",
       "      <th>numvotes</th>\n",
       "      <th>original_language</th>\n",
       "      <th>original_title_mvdb</th>\n",
       "      <th>release_date</th>\n",
       "    </tr>\n",
       "    <tr>\n",
       "      <th>start_year</th>\n",
       "      <th>title</th>\n",
       "      <th></th>\n",
       "      <th></th>\n",
       "      <th></th>\n",
       "      <th></th>\n",
       "      <th></th>\n",
       "      <th></th>\n",
       "      <th></th>\n",
       "      <th></th>\n",
       "      <th></th>\n",
       "    </tr>\n",
       "  </thead>\n",
       "  <tbody>\n",
       "    <tr>\n",
       "      <th>1930</th>\n",
       "      <th>All Quiet on the Western Front</th>\n",
       "      <td>NaN</td>\n",
       "      <td>NaN</td>\n",
       "      <td>NaN</td>\n",
       "      <td>NaN</td>\n",
       "      <td>NaN</td>\n",
       "      <td>NaN</td>\n",
       "      <td>en</td>\n",
       "      <td>All Quiet on the Western Front</td>\n",
       "      <td>1930-04-29</td>\n",
       "    </tr>\n",
       "    <tr>\n",
       "      <th>1933</th>\n",
       "      <th>The Vampire Bat</th>\n",
       "      <td>NaN</td>\n",
       "      <td>NaN</td>\n",
       "      <td>NaN</td>\n",
       "      <td>NaN</td>\n",
       "      <td>NaN</td>\n",
       "      <td>NaN</td>\n",
       "      <td>en</td>\n",
       "      <td>The Vampire Bat</td>\n",
       "      <td>1933-01-21</td>\n",
       "    </tr>\n",
       "    <tr>\n",
       "      <th>1936</th>\n",
       "      <th>Le Bonheur</th>\n",
       "      <td>NaN</td>\n",
       "      <td>NaN</td>\n",
       "      <td>NaN</td>\n",
       "      <td>NaN</td>\n",
       "      <td>NaN</td>\n",
       "      <td>NaN</td>\n",
       "      <td>fr</td>\n",
       "      <td>Le Bonheur</td>\n",
       "      <td>1936-02-27</td>\n",
       "    </tr>\n",
       "    <tr>\n",
       "      <th>1939</th>\n",
       "      <th>How Walt Disney Cartoons Are Made</th>\n",
       "      <td>NaN</td>\n",
       "      <td>NaN</td>\n",
       "      <td>NaN</td>\n",
       "      <td>NaN</td>\n",
       "      <td>NaN</td>\n",
       "      <td>NaN</td>\n",
       "      <td>en</td>\n",
       "      <td>How Walt Disney Cartoons Are Made</td>\n",
       "      <td>1939-01-19</td>\n",
       "    </tr>\n",
       "    <tr>\n",
       "      <th>1946</th>\n",
       "      <th>The Best Years of Our Lives</th>\n",
       "      <td>NaN</td>\n",
       "      <td>NaN</td>\n",
       "      <td>NaN</td>\n",
       "      <td>NaN</td>\n",
       "      <td>NaN</td>\n",
       "      <td>NaN</td>\n",
       "      <td>en</td>\n",
       "      <td>The Best Years of Our Lives</td>\n",
       "      <td>1946-12-25</td>\n",
       "    </tr>\n",
       "  </tbody>\n",
       "</table>\n",
       "</div>"
      ],
      "text/plain": [
       "                                             tconst original_title_imdb  \\\n",
       "start_year title                                                          \n",
       "1930       All Quiet on the Western Front       NaN                 NaN   \n",
       "1933       The Vampire Bat                      NaN                 NaN   \n",
       "1936       Le Bonheur                           NaN                 NaN   \n",
       "1939       How Walt Disney Cartoons Are Made    NaN                 NaN   \n",
       "1946       The Best Years of Our Lives          NaN                 NaN   \n",
       "\n",
       "                                              runtime_minutes genres  \\\n",
       "start_year title                                                       \n",
       "1930       All Quiet on the Western Front                 NaN    NaN   \n",
       "1933       The Vampire Bat                                NaN    NaN   \n",
       "1936       Le Bonheur                                     NaN    NaN   \n",
       "1939       How Walt Disney Cartoons Are Made              NaN    NaN   \n",
       "1946       The Best Years of Our Lives                    NaN    NaN   \n",
       "\n",
       "                                              averagerating  numvotes  \\\n",
       "start_year title                                                        \n",
       "1930       All Quiet on the Western Front               NaN       NaN   \n",
       "1933       The Vampire Bat                              NaN       NaN   \n",
       "1936       Le Bonheur                                   NaN       NaN   \n",
       "1939       How Walt Disney Cartoons Are Made            NaN       NaN   \n",
       "1946       The Best Years of Our Lives                  NaN       NaN   \n",
       "\n",
       "                                             original_language  \\\n",
       "start_year title                                                 \n",
       "1930       All Quiet on the Western Front                   en   \n",
       "1933       The Vampire Bat                                  en   \n",
       "1936       Le Bonheur                                       fr   \n",
       "1939       How Walt Disney Cartoons Are Made                en   \n",
       "1946       The Best Years of Our Lives                      en   \n",
       "\n",
       "                                                            original_title_mvdb  \\\n",
       "start_year title                                                                  \n",
       "1930       All Quiet on the Western Front        All Quiet on the Western Front   \n",
       "1933       The Vampire Bat                                      The Vampire Bat   \n",
       "1936       Le Bonheur                                                Le Bonheur   \n",
       "1939       How Walt Disney Cartoons Are Made  How Walt Disney Cartoons Are Made   \n",
       "1946       The Best Years of Our Lives              The Best Years of Our Lives   \n",
       "\n",
       "                                             release_date  \n",
       "start_year title                                           \n",
       "1930       All Quiet on the Western Front      1930-04-29  \n",
       "1933       The Vampire Bat                     1933-01-21  \n",
       "1936       Le Bonheur                          1936-02-27  \n",
       "1939       How Walt Disney Cartoons Are Made   1939-01-19  \n",
       "1946       The Best Years of Our Lives         1946-12-25  "
      ]
     },
     "execution_count": 7,
     "metadata": {},
     "output_type": "execute_result"
    }
   ],
   "source": [
    "imdb_df = imdb_df.rename(columns = {'primary_title': \"title\"})\n",
    "imdb_df = imdb_df.reset_index()\n",
    "working_df = imdb_df.set_index(['start_year', 'title']).join(tmdb_movies, how='outer', lsuffix='_imdb', rsuffix='_mvdb')\n",
    "\n",
    "\n",
    "working_df = working_df.drop(columns=['Unnamed: 0', 'vote_average', 'vote_count', 'popularity', 'genre_ids', 'id'])\n",
    "# working_df = working_df.fillna(value = {'genres': 'Unknown'})\n",
    "\n",
    "working_df.head()\n"
   ]
  },
  {
   "cell_type": "markdown",
   "metadata": {},
   "source": [
    "## Add in bom_movie_gross"
   ]
  },
  {
   "cell_type": "code",
   "execution_count": 8,
   "metadata": {},
   "outputs": [],
   "source": [
    "working_df = working_df.join(bom_movie_gross, how='outer')"
   ]
  },
  {
   "cell_type": "markdown",
   "metadata": {},
   "source": [
    "# Add in tn_movie_budgets"
   ]
  },
  {
   "cell_type": "code",
   "execution_count": 9,
   "metadata": {},
   "outputs": [],
   "source": [
    "tn_movie_budgets = data_imports['tn.movie_budgets']"
   ]
  },
  {
   "cell_type": "code",
   "execution_count": 11,
   "metadata": {},
   "outputs": [],
   "source": [
    "working_df['release_date'] = pd.to_datetime(working_df['release_date'])\n",
    "tn_movie_budgets['start_year'] = pd.DatetimeIndex(tn_movie_budgets['release_date']).year\n",
    "tn_movie_budgets = tn_movie_budgets.rename(columns={'movie':'title'})\n",
    "tn_movie_budgets = tn_movie_budgets.set_index(['start_year', 'title'])"
   ]
  },
  {
   "cell_type": "code",
   "execution_count": 12,
   "metadata": {},
   "outputs": [],
   "source": [
    "# tn_movie_budgets.head()\n",
    "working_df = working_df.join(tn_movie_budgets, how='outer', lsuffix='_imdb', rsuffix='_tn')\n"
   ]
  },
  {
   "cell_type": "markdown",
   "metadata": {},
   "source": [
    "Drop movies from before 2000"
   ]
  },
  {
   "cell_type": "code",
   "execution_count": 13,
   "metadata": {},
   "outputs": [],
   "source": [
    "working_df = working_df.reset_index()\n",
    "working_df = working_df[working_df['start_year'] > 2000]\n",
    "working_df = working_df.set_index(['start_year', 'title'])"
   ]
  },
  {
   "cell_type": "markdown",
   "metadata": {},
   "source": [
    "Drop NaN genres"
   ]
  },
  {
   "cell_type": "code",
   "execution_count": 14,
   "metadata": {},
   "outputs": [
    {
     "name": "stdout",
     "output_type": "stream",
     "text": [
      "<class 'pandas.core.frame.DataFrame'>\n",
      "MultiIndex: 11122 entries, (2010, * Cemetery) to (2018, eHero)\n",
      "Data columns (total 17 columns):\n",
      "tconst                 11122 non-null object\n",
      "original_title_imdb    11122 non-null object\n",
      "runtime_minutes        10864 non-null float64\n",
      "genres                 11122 non-null object\n",
      "averagerating          10761 non-null float64\n",
      "numvotes               10761 non-null float64\n",
      "original_language      11122 non-null object\n",
      "original_title_mvdb    11122 non-null object\n",
      "release_date_imdb      11122 non-null datetime64[ns]\n",
      "studio                 1430 non-null object\n",
      "domestic_gross_imdb    1424 non-null float64\n",
      "foreign_gross          1127 non-null object\n",
      "id                     1398 non-null float64\n",
      "release_date_tn        1398 non-null object\n",
      "production_budget      1398 non-null object\n",
      "domestic_gross_tn      1398 non-null object\n",
      "worldwide_gross        1398 non-null object\n",
      "dtypes: datetime64[ns](1), float64(5), object(11)\n",
      "memory usage: 2.6+ MB\n"
     ]
    }
   ],
   "source": [
    "working_df = working_df.dropna(subset=['genres'])\n",
    "working_df = working_df[working_df['original_language'] == 'en']\n",
    "working_df.info()"
   ]
  },
  {
   "cell_type": "markdown",
   "metadata": {},
   "source": [
    "# Scraping wikipedia for production budgets"
   ]
  },
  {
   "cell_type": "markdown",
   "metadata": {},
   "source": [
    "At this point I had to decide whether it was better to remove foreign films from the dataset or spend the time it would require to write code to account for each individual foreign currency found through scrapping. I ultimately decided, both due to the scope of the project (Microsoft being an American company) and the marginal number of foreign films remaining in my dataset that it was better to simply return None for budgets not in US dollars."
   ]
  },
  {
   "cell_type": "code",
   "execution_count": 15,
   "metadata": {},
   "outputs": [],
   "source": [
    "# Takes in the string, isolated as a budget, and returns a number of type int\n",
    "\n",
    "\n",
    "def convert_budget_to_int(budget, debug):\n",
    "\n",
    "    #     Checks for various non-alphanumeric characters\n",
    "\n",
    "    if type(budget) == int:\n",
    "        return budget\n",
    "    if type(budget) == float:\n",
    "        return int(budget)\n",
    "    if budget.startswith('$CAD'):\n",
    "        return None\n",
    "    if budget.startswith('$') or budget.startswith('US$'):\n",
    "        if budget[0] == '<':\n",
    "            budget = budget[1:]\n",
    "            \n",
    "#  Enable for Avatar 2009, breaks other movies\n",
    "\n",
    "\n",
    "#         if '$' in budget[3:]:\n",
    "#             temp = budget[3:]\n",
    "#             budget = budget[:temp.index('$')+3]\n",
    "        while '[' in budget:\n",
    "            budget = budget.replace(\n",
    "                budget[budget.index('['):budget.index(']')+1], '')\n",
    "        if '–' in budget:\n",
    "            currency = ''\n",
    "            for i in budget:\n",
    "                if not i.isnumeric():\n",
    "                    currency = currency + i\n",
    "                else:\n",
    "                    break\n",
    "            if debug:\n",
    "                print(budget, \"Middle of dash check\")\n",
    "            budget = budget[budget.index('–')+1:]\n",
    "            budget = currency + budget\n",
    "        if '-' in budget:\n",
    "            currency = ''\n",
    "            for i in budget:\n",
    "                if not i.isnumeric():\n",
    "                    currency = currency + i\n",
    "                else:\n",
    "                    break\n",
    "            if debug:\n",
    "                print(budget, \"Middle of dash check\")\n",
    "            budget = budget[budget.index('-')+1:]\n",
    "            budget = currency + budget\n",
    "        if '—' in budget:\n",
    "            currency = ''\n",
    "            for i in budget:\n",
    "                if not i.isnumeric():\n",
    "                    currency = currency + i\n",
    "                else:\n",
    "                    break\n",
    "            if debug:\n",
    "                print(budget, \"Middle of dash check\")\n",
    "            budget = budget[budget.index('—')+1:]\n",
    "            budget = currency + budget\n",
    "        if debug:\n",
    "            print(budget)\n",
    "\n",
    "#     Using regex because for some reason ' ' would not be recognized for certain movies\n",
    "        if bool(re.search(r\"\\s\", budget)):\n",
    "            whitespace_index = re.search(r\"\\s\", budget).start()\n",
    "            if budget[whitespace_index-1].isnumeric():\n",
    "                number = budget[:whitespace_index]\n",
    "                word = budget[whitespace_index+1:]\n",
    "            else:\n",
    "                whitespace_index = re.search(\n",
    "                    r\"\\s\", budget[:whitespace_index]+budget[whitespace_index+1:]).start()\n",
    "                number = budget[:whitespace_index+1]\n",
    "                word = budget[whitespace_index+2:]\n",
    "            if debug:\n",
    "                print(word)\n",
    "                print(number)\n",
    "\n",
    "        else:\n",
    "            number, word = budget, ''\n",
    "        if debug:\n",
    "            print(number, 'Before \\'.\\' check')\n",
    "        if '.' in number:\n",
    "            left, right = number.split('.')\n",
    "            decimal_places = len(right)\n",
    "            number = number.replace('.', '')\n",
    "\n",
    "#     Replacing instnaces of million and crore (Indian for ten million) with the proper number of zeroes\n",
    "\n",
    "        if 'crore' in word.lower():\n",
    "            try:\n",
    "                number = number + '0000000'[decimal_places:]\n",
    "            except:\n",
    "                number = number + '0000000'\n",
    "        elif 'million' in word.lower():\n",
    "            try:\n",
    "                number = number + '000000'[decimal_places:]\n",
    "            except:\n",
    "                number = number + '000000'\n",
    "\n",
    "        if ',' in number:\n",
    "            number = number.replace(',', '')\n",
    "\n",
    "        budget = budget.strip()\n",
    "        if debug:\n",
    "            print(budget)\n",
    "\n",
    "        if budget[0] == '$':\n",
    "            number = number.replace('$', '')\n",
    "        elif budget[:3] == 'US$':\n",
    "            number = number.replace('US$', '')\n",
    "\n",
    "        return int(number)\n",
    "\n",
    "# Replaces spaces in a URL with %20\n",
    "\n",
    "\n",
    "def urlify(in_string):\n",
    "    return \"%20\".join(in_string.split())\n",
    "\n",
    "\n",
    "'''Uses Wikipedia's API to search for movies. \n",
    "In practice I would search by the title and year to reduce the chance of an incorrect match'''\n",
    "\n",
    "\n",
    "def wiki_search(search):\n",
    "    url = \"https://en.wikipedia.org/w/api.php?action=query&format=json&prop=&list=search&srsearch={}\".format(\n",
    "        urlify(search))\n",
    "    response = requests.get(url=url)\n",
    "\n",
    "    try:\n",
    "        return(response.json()['query']['search'][0]['pageid'])\n",
    "    except IndexError:\n",
    "        return None\n",
    "\n",
    "\n",
    "'''The called function which managed the search for movies on Wikipedia, \n",
    "the isolating of the budget string, and ultimately the return of the budget as an integer'''\n",
    "\n",
    "\n",
    "def wiki_grab(search, debug=False):\n",
    "    searches_to_ignore = ['#Stuck 2014',\n",
    "                          'House of Black Wings 2010',\n",
    "                          'Restoring a Masterpiece: The Renovation of Eastman Theatre 2010',\n",
    "                          'Avatar: Special Edition 2010',\n",
    "                          'The Forgotten Jewel 2010',\n",
    "                          'Birth of a Party 2011'\n",
    "                          ]\n",
    "    if search[0] == '#':\n",
    "        return None\n",
    "    if search in searches_to_ignore:\n",
    "        return None\n",
    "    pageid = wiki_search(search)\n",
    "    if debug:\n",
    "        print(pageid)\n",
    "    if pageid is None:\n",
    "        return None\n",
    "    url = 'https://en.wikipedia.org/w/api.php?action=parse&format=json&pageid={}&prop=text&formatversion=2'.format(\n",
    "        pageid)\n",
    "    if debug:\n",
    "        print(url)\n",
    "    response = requests.get(url=url)\n",
    "    soup = BeautifulSoup(response.json()['parse']['text'])\n",
    "\n",
    "    if 'Budget</th>' in str(soup):\n",
    "        if soup.find(text='Budget').next.text:\n",
    "            return convert_budget_to_int(soup.find(text='Budget').next.text, debug)\n",
    "        elif '(gross)' in soup.find(text='Budget').next.text:\n",
    "            gross = soup.find('li', text=re.compile(r' .+(\\(gross\\))')).text\n",
    "            gross = gross.replace(' (gross)', '')\n",
    "            gross = convert_budget_to_int(gross, debug)\n",
    "            return(gross)\n",
    "        elif re.compile(r' \\d') in soup.find(text='Budget').next.li.text:\n",
    "            return(soup.find('li', text=re.compile(r' \\d')))\n",
    "\n",
    "# A test run\n",
    "# print(wiki_grab(\"Habermann 2010\", True))\n"
   ]
  },
  {
   "cell_type": "code",
   "execution_count": null,
   "metadata": {},
   "outputs": [],
   "source": [
    "working_df['budget_wiki'] = np.nan\n",
    "for year, title in working_df[working_df['budget_wiki'].isna()].index.values.tolist():\n",
    "    try:\n",
    "#         Do not search again in the senario that we're running this code multiple times due to error\n",
    "        if working_df.loc[(year, title), 'budget_wiki'].values[0] == -1:\n",
    "            continue\n",
    "        print(title, year)\n",
    "        budget = wiki_grab(title + ' ' + str(year))\n",
    "        if budget == None:\n",
    "            working_df.loc[(year, title), 'budget_wiki'] = -1\n",
    "        else:\n",
    "            working_df.loc[(year, title), 'budget_wiki'] = budget\n",
    "        print(working_df.loc[(year, title), 'budget_wiki'])\n",
    "    except:\n",
    "        working_df.loc[(year, title), 'budget_wiki'] = -1"
   ]
  },
  {
   "cell_type": "markdown",
   "metadata": {},
   "source": [
    "Save my work"
   ]
  },
  {
   "cell_type": "code",
   "execution_count": 16,
   "metadata": {},
   "outputs": [
    {
     "data": {
      "text/html": [
       "<div>\n",
       "<style scoped>\n",
       "    .dataframe tbody tr th:only-of-type {\n",
       "        vertical-align: middle;\n",
       "    }\n",
       "\n",
       "    .dataframe tbody tr th {\n",
       "        vertical-align: top;\n",
       "    }\n",
       "\n",
       "    .dataframe thead th {\n",
       "        text-align: right;\n",
       "    }\n",
       "</style>\n",
       "<table border=\"1\" class=\"dataframe\">\n",
       "  <thead>\n",
       "    <tr style=\"text-align: right;\">\n",
       "      <th></th>\n",
       "      <th></th>\n",
       "      <th>tconst</th>\n",
       "      <th>original_title_imdb</th>\n",
       "      <th>runtime_minutes</th>\n",
       "      <th>genres</th>\n",
       "      <th>averagerating</th>\n",
       "      <th>numvotes</th>\n",
       "      <th>original_language</th>\n",
       "      <th>original_title_mvdb</th>\n",
       "      <th>release_date_imdb</th>\n",
       "      <th>studio</th>\n",
       "      <th>domestic_gross_imdb</th>\n",
       "      <th>foreign_gross</th>\n",
       "      <th>id</th>\n",
       "      <th>release_date_tn</th>\n",
       "      <th>production_budget</th>\n",
       "      <th>domestic_gross_tn</th>\n",
       "      <th>worldwide_gross</th>\n",
       "      <th>budget_wiki</th>\n",
       "    </tr>\n",
       "    <tr>\n",
       "      <th>start_year</th>\n",
       "      <th>title</th>\n",
       "      <th></th>\n",
       "      <th></th>\n",
       "      <th></th>\n",
       "      <th></th>\n",
       "      <th></th>\n",
       "      <th></th>\n",
       "      <th></th>\n",
       "      <th></th>\n",
       "      <th></th>\n",
       "      <th></th>\n",
       "      <th></th>\n",
       "      <th></th>\n",
       "      <th></th>\n",
       "      <th></th>\n",
       "      <th></th>\n",
       "      <th></th>\n",
       "      <th></th>\n",
       "      <th></th>\n",
       "    </tr>\n",
       "  </thead>\n",
       "  <tbody>\n",
       "    <tr>\n",
       "      <th rowspan=\"5\" valign=\"top\">2010</th>\n",
       "      <th>* Cemetery</th>\n",
       "      <td>tt1598691</td>\n",
       "      <td>* Cemetery</td>\n",
       "      <td>80.0</td>\n",
       "      <td>Comedy,Horror,Thriller</td>\n",
       "      <td>5.2</td>\n",
       "      <td>17.0</td>\n",
       "      <td>en</td>\n",
       "      <td>* Cemetery</td>\n",
       "      <td>2010-01-01</td>\n",
       "      <td>NaN</td>\n",
       "      <td>NaN</td>\n",
       "      <td>NaN</td>\n",
       "      <td>NaN</td>\n",
       "      <td>NaN</td>\n",
       "      <td>NaN</td>\n",
       "      <td>NaN</td>\n",
       "      <td>NaN</td>\n",
       "      <td>Unknown</td>\n",
       "    </tr>\n",
       "    <tr>\n",
       "      <th>127 Hours</th>\n",
       "      <td>tt1542344</td>\n",
       "      <td>127 Hours</td>\n",
       "      <td>94.0</td>\n",
       "      <td>Adventure,Biography,Drama</td>\n",
       "      <td>7.6</td>\n",
       "      <td>323949.0</td>\n",
       "      <td>en</td>\n",
       "      <td>127 Hours</td>\n",
       "      <td>2010-11-05</td>\n",
       "      <td>FoxS</td>\n",
       "      <td>18300000.0</td>\n",
       "      <td>42400000</td>\n",
       "      <td>6.0</td>\n",
       "      <td>Nov 5, 2010</td>\n",
       "      <td>$18,000,000</td>\n",
       "      <td>$18,335,230</td>\n",
       "      <td>$60,217,171</td>\n",
       "      <td>18000000</td>\n",
       "    </tr>\n",
       "    <tr>\n",
       "      <th>12th &amp; Delaware</th>\n",
       "      <td>tt1548865</td>\n",
       "      <td>12th &amp; Delaware</td>\n",
       "      <td>81.0</td>\n",
       "      <td>Documentary,Drama</td>\n",
       "      <td>7.5</td>\n",
       "      <td>407.0</td>\n",
       "      <td>en</td>\n",
       "      <td>12th &amp; Delaware</td>\n",
       "      <td>2010-04-01</td>\n",
       "      <td>NaN</td>\n",
       "      <td>NaN</td>\n",
       "      <td>NaN</td>\n",
       "      <td>NaN</td>\n",
       "      <td>NaN</td>\n",
       "      <td>NaN</td>\n",
       "      <td>NaN</td>\n",
       "      <td>NaN</td>\n",
       "      <td>Unknown</td>\n",
       "    </tr>\n",
       "    <tr>\n",
       "      <th>13</th>\n",
       "      <td>tt0798817</td>\n",
       "      <td>13</td>\n",
       "      <td>91.0</td>\n",
       "      <td>Drama,Thriller</td>\n",
       "      <td>6.1</td>\n",
       "      <td>38418.0</td>\n",
       "      <td>en</td>\n",
       "      <td>13</td>\n",
       "      <td>2010-03-12</td>\n",
       "      <td>NaN</td>\n",
       "      <td>NaN</td>\n",
       "      <td>NaN</td>\n",
       "      <td>NaN</td>\n",
       "      <td>NaN</td>\n",
       "      <td>NaN</td>\n",
       "      <td>NaN</td>\n",
       "      <td>NaN</td>\n",
       "      <td>Unknown</td>\n",
       "    </tr>\n",
       "    <tr>\n",
       "      <th>15 Till Midnight</th>\n",
       "      <td>tt1568798</td>\n",
       "      <td>15 Till Midnight</td>\n",
       "      <td>97.0</td>\n",
       "      <td>Drama,Mystery,Sci-Fi</td>\n",
       "      <td>2.8</td>\n",
       "      <td>244.0</td>\n",
       "      <td>en</td>\n",
       "      <td>15 Till Midnight</td>\n",
       "      <td>2010-01-01</td>\n",
       "      <td>NaN</td>\n",
       "      <td>NaN</td>\n",
       "      <td>NaN</td>\n",
       "      <td>NaN</td>\n",
       "      <td>NaN</td>\n",
       "      <td>NaN</td>\n",
       "      <td>NaN</td>\n",
       "      <td>NaN</td>\n",
       "      <td>Unknown</td>\n",
       "    </tr>\n",
       "  </tbody>\n",
       "</table>\n",
       "</div>"
      ],
      "text/plain": [
       "                                tconst original_title_imdb  runtime_minutes  \\\n",
       "start_year title                                                              \n",
       "2010       * Cemetery        tt1598691          * Cemetery             80.0   \n",
       "           127 Hours         tt1542344           127 Hours             94.0   \n",
       "           12th & Delaware   tt1548865     12th & Delaware             81.0   \n",
       "           13                tt0798817                  13             91.0   \n",
       "           15 Till Midnight  tt1568798    15 Till Midnight             97.0   \n",
       "\n",
       "                                                genres  averagerating  \\\n",
       "start_year title                                                        \n",
       "2010       * Cemetery           Comedy,Horror,Thriller            5.2   \n",
       "           127 Hours         Adventure,Biography,Drama            7.6   \n",
       "           12th & Delaware           Documentary,Drama            7.5   \n",
       "           13                           Drama,Thriller            6.1   \n",
       "           15 Till Midnight       Drama,Mystery,Sci-Fi            2.8   \n",
       "\n",
       "                             numvotes original_language original_title_mvdb  \\\n",
       "start_year title                                                              \n",
       "2010       * Cemetery            17.0                en          * Cemetery   \n",
       "           127 Hours         323949.0                en           127 Hours   \n",
       "           12th & Delaware      407.0                en     12th & Delaware   \n",
       "           13                 38418.0                en                  13   \n",
       "           15 Till Midnight     244.0                en    15 Till Midnight   \n",
       "\n",
       "                            release_date_imdb studio  domestic_gross_imdb  \\\n",
       "start_year title                                                            \n",
       "2010       * Cemetery              2010-01-01    NaN                  NaN   \n",
       "           127 Hours               2010-11-05   FoxS           18300000.0   \n",
       "           12th & Delaware         2010-04-01    NaN                  NaN   \n",
       "           13                      2010-03-12    NaN                  NaN   \n",
       "           15 Till Midnight        2010-01-01    NaN                  NaN   \n",
       "\n",
       "                            foreign_gross   id release_date_tn  \\\n",
       "start_year title                                                 \n",
       "2010       * Cemetery                 NaN  NaN             NaN   \n",
       "           127 Hours             42400000  6.0     Nov 5, 2010   \n",
       "           12th & Delaware            NaN  NaN             NaN   \n",
       "           13                         NaN  NaN             NaN   \n",
       "           15 Till Midnight           NaN  NaN             NaN   \n",
       "\n",
       "                            production_budget domestic_gross_tn  \\\n",
       "start_year title                                                  \n",
       "2010       * Cemetery                     NaN               NaN   \n",
       "           127 Hours              $18,000,000       $18,335,230   \n",
       "           12th & Delaware                NaN               NaN   \n",
       "           13                             NaN               NaN   \n",
       "           15 Till Midnight               NaN               NaN   \n",
       "\n",
       "                            worldwide_gross budget_wiki  \n",
       "start_year title                                         \n",
       "2010       * Cemetery                   NaN     Unknown  \n",
       "           127 Hours            $60,217,171    18000000  \n",
       "           12th & Delaware              NaN     Unknown  \n",
       "           13                           NaN     Unknown  \n",
       "           15 Till Midnight             NaN     Unknown  "
      ]
     },
     "execution_count": 16,
     "metadata": {},
     "output_type": "execute_result"
    }
   ],
   "source": [
    "# working_df.to_csv('post_wiki_scrape.csv')\n",
    "\n",
    "working_df = pd.read_csv('post_wiki_scrape.csv')\n",
    "working_df = working_df.set_index(['start_year', 'title'])\n",
    "working_df.head()"
   ]
  },
  {
   "cell_type": "code",
   "execution_count": 30,
   "metadata": {},
   "outputs": [
    {
     "name": "stdout",
     "output_type": "stream",
     "text": [
      "<class 'pandas.core.frame.DataFrame'>\n",
      "MultiIndex: 11122 entries, (2010, * Cemetery) to (2018, eHero)\n",
      "Data columns (total 21 columns):\n",
      "tconst                 11122 non-null object\n",
      "original_title_imdb    11122 non-null object\n",
      "runtime_minutes        10864 non-null float64\n",
      "genres                 11122 non-null object\n",
      "averagerating          10761 non-null float64\n",
      "numvotes               10761 non-null float64\n",
      "original_language      11122 non-null object\n",
      "original_title_mvdb    11122 non-null object\n",
      "release_date_imdb      11122 non-null object\n",
      "studio                 1430 non-null object\n",
      "domestic_gross_imdb    11122 non-null int64\n",
      "foreign_gross          11122 non-null int64\n",
      "id                     1398 non-null float64\n",
      "release_date_tn        1398 non-null object\n",
      "production_budget      11122 non-null int64\n",
      "domestic_gross_tn      11122 non-null int64\n",
      "worldwide_gross        11122 non-null int64\n",
      "budget_wiki            11122 non-null int64\n",
      "genre1                 11122 non-null object\n",
      "genre2                 11122 non-null object\n",
      "genre3                 11122 non-null object\n",
      "dtypes: float64(4), int64(6), object(11)\n",
      "memory usage: 1.9+ MB\n"
     ]
    }
   ],
   "source": [
    "# Convert financial columns to int64 for comparison\n",
    "\n",
    "def convert_columns_to_int(budget):\n",
    "    try:\n",
    "        return int(float(budget))\n",
    "    except:\n",
    "        return convert_budget_to_int(budget, False)\n",
    "\n",
    "for column in ['domestic_gross_imdb', 'foreign_gross', 'production_budget', 'domestic_gross_tn', 'worldwide_gross', 'budget_wiki']:\n",
    "    working_df[column] = working_df[column].fillna(-1)\n",
    "    working_df[column] = working_df[column].apply(lambda x: convert_columns_to_int(x))\n",
    "    working_df[column] = working_df[column].astype('int64')\n",
    "\n",
    "working_df.info()"
   ]
  },
  {
   "cell_type": "code",
   "execution_count": 31,
   "metadata": {},
   "outputs": [],
   "source": [
    "'''\n",
    "Derive a working worldwide gross and working budget based on the data gathered with a\n",
    "preference for information from IMDB and Wikipedia based on token examinations of the datasets\n",
    "'''\n",
    "\n",
    "working_df['working_wwg'] = working_df.apply(\n",
    "    lambda x: x['domestic_gross_imdb'] + x['foreign_gross'] if x['domestic_gross_imdb'] > -1 and x['foreign_gross'] > -1 \n",
    "        else x['worldwide_gross'], axis = 1)\n",
    "working_df['working_budget'] = working_df.apply(\n",
    "    lambda x: x['budget_wiki'] if x['budget_wiki'] > -1 else x['production_budget'], axis = 1)"
   ]
  },
  {
   "cell_type": "code",
   "execution_count": 32,
   "metadata": {},
   "outputs": [],
   "source": [
    "working_df['roi'] = working_df.apply(lambda x: x['working_wwg'] - x['working_budget'], axis = 1)\n",
    "working_df = working_df.drop_duplicates()"
   ]
  },
  {
   "cell_type": "markdown",
   "metadata": {},
   "source": [
    "# Split 'genre' column into genre1, genre2, genre3\n"
   ]
  },
  {
   "cell_type": "code",
   "execution_count": 34,
   "metadata": {},
   "outputs": [
    {
     "data": {
      "text/plain": [
       "2"
      ]
     },
     "execution_count": 34,
     "metadata": {},
     "output_type": "execute_result"
    }
   ],
   "source": [
    "# Find the maximum amount of commas in the genres column\n",
    "comma_counter = 0\n",
    "\n",
    "for each in working_df['genres']:\n",
    "    if type(each) == str:\n",
    "        current_count = each.count(',')\n",
    "        if current_count > comma_counter:\n",
    "            comma_counter = current_count\n",
    "    \n",
    "comma_counter"
   ]
  },
  {
   "cell_type": "code",
   "execution_count": 35,
   "metadata": {},
   "outputs": [],
   "source": [
    "working_df[['genre1', 'genre2', 'genre3']] = working_df['genres'].str.split(',', expand=True)\n"
   ]
  },
  {
   "cell_type": "markdown",
   "metadata": {},
   "source": [
    "## replacing NaN with \"Unknown\""
   ]
  },
  {
   "cell_type": "code",
   "execution_count": 36,
   "metadata": {},
   "outputs": [
    {
     "data": {
      "text/html": [
       "<div>\n",
       "<style scoped>\n",
       "    .dataframe tbody tr th:only-of-type {\n",
       "        vertical-align: middle;\n",
       "    }\n",
       "\n",
       "    .dataframe tbody tr th {\n",
       "        vertical-align: top;\n",
       "    }\n",
       "\n",
       "    .dataframe thead th {\n",
       "        text-align: right;\n",
       "    }\n",
       "</style>\n",
       "<table border=\"1\" class=\"dataframe\">\n",
       "  <thead>\n",
       "    <tr style=\"text-align: right;\">\n",
       "      <th></th>\n",
       "      <th></th>\n",
       "      <th>runtime_minutes</th>\n",
       "      <th>genres</th>\n",
       "      <th>genre1</th>\n",
       "      <th>genre2</th>\n",
       "      <th>genre3</th>\n",
       "      <th>working_wwg</th>\n",
       "      <th>working_budget</th>\n",
       "      <th>roi</th>\n",
       "    </tr>\n",
       "    <tr>\n",
       "      <th>start_year</th>\n",
       "      <th>title</th>\n",
       "      <th></th>\n",
       "      <th></th>\n",
       "      <th></th>\n",
       "      <th></th>\n",
       "      <th></th>\n",
       "      <th></th>\n",
       "      <th></th>\n",
       "      <th></th>\n",
       "    </tr>\n",
       "  </thead>\n",
       "  <tbody>\n",
       "    <tr>\n",
       "      <th rowspan=\"5\" valign=\"top\">2010</th>\n",
       "      <th>* Cemetery</th>\n",
       "      <td>80.0</td>\n",
       "      <td>Comedy,Horror,Thriller</td>\n",
       "      <td>Comedy</td>\n",
       "      <td>Horror</td>\n",
       "      <td>Thriller</td>\n",
       "      <td>-1</td>\n",
       "      <td>-1</td>\n",
       "      <td>0</td>\n",
       "    </tr>\n",
       "    <tr>\n",
       "      <th>127 Hours</th>\n",
       "      <td>94.0</td>\n",
       "      <td>Adventure,Biography,Drama</td>\n",
       "      <td>Adventure</td>\n",
       "      <td>Biography</td>\n",
       "      <td>Drama</td>\n",
       "      <td>60700000</td>\n",
       "      <td>18000000</td>\n",
       "      <td>42700000</td>\n",
       "    </tr>\n",
       "    <tr>\n",
       "      <th>12th &amp; Delaware</th>\n",
       "      <td>81.0</td>\n",
       "      <td>Documentary,Drama</td>\n",
       "      <td>Documentary</td>\n",
       "      <td>Drama</td>\n",
       "      <td>Unknown</td>\n",
       "      <td>-1</td>\n",
       "      <td>-1</td>\n",
       "      <td>0</td>\n",
       "    </tr>\n",
       "    <tr>\n",
       "      <th>13</th>\n",
       "      <td>91.0</td>\n",
       "      <td>Drama,Thriller</td>\n",
       "      <td>Drama</td>\n",
       "      <td>Thriller</td>\n",
       "      <td>Unknown</td>\n",
       "      <td>-1</td>\n",
       "      <td>-1</td>\n",
       "      <td>0</td>\n",
       "    </tr>\n",
       "    <tr>\n",
       "      <th>15 Till Midnight</th>\n",
       "      <td>97.0</td>\n",
       "      <td>Drama,Mystery,Sci-Fi</td>\n",
       "      <td>Drama</td>\n",
       "      <td>Mystery</td>\n",
       "      <td>Sci-Fi</td>\n",
       "      <td>-1</td>\n",
       "      <td>-1</td>\n",
       "      <td>0</td>\n",
       "    </tr>\n",
       "  </tbody>\n",
       "</table>\n",
       "</div>"
      ],
      "text/plain": [
       "                             runtime_minutes                     genres  \\\n",
       "start_year title                                                          \n",
       "2010       * Cemetery                   80.0     Comedy,Horror,Thriller   \n",
       "           127 Hours                    94.0  Adventure,Biography,Drama   \n",
       "           12th & Delaware              81.0          Documentary,Drama   \n",
       "           13                           91.0             Drama,Thriller   \n",
       "           15 Till Midnight             97.0       Drama,Mystery,Sci-Fi   \n",
       "\n",
       "                                  genre1     genre2    genre3  working_wwg  \\\n",
       "start_year title                                                             \n",
       "2010       * Cemetery             Comedy     Horror  Thriller           -1   \n",
       "           127 Hours           Adventure  Biography     Drama     60700000   \n",
       "           12th & Delaware   Documentary      Drama   Unknown           -1   \n",
       "           13                      Drama   Thriller   Unknown           -1   \n",
       "           15 Till Midnight        Drama    Mystery    Sci-Fi           -1   \n",
       "\n",
       "                             working_budget       roi  \n",
       "start_year title                                       \n",
       "2010       * Cemetery                    -1         0  \n",
       "           127 Hours               18000000  42700000  \n",
       "           12th & Delaware               -1         0  \n",
       "           13                            -1         0  \n",
       "           15 Till Midnight              -1         0  "
      ]
     },
     "execution_count": 36,
     "metadata": {},
     "output_type": "execute_result"
    }
   ],
   "source": [
    "working_df = working_df.fillna(value = {\n",
    "    'genres': 'Unknown', 'genre1': 'Unknown', 'genre3': 'Unknown', 'genre2': 'Unknown'\n",
    "})\n",
    "\n",
    "analysis_df = working_df[[\n",
    "    'runtime_minutes',\n",
    "    'genres',\n",
    "    'genre1',\n",
    "    'genre2',\n",
    "    'genre3',\n",
    "    'working_wwg',\n",
    "    'working_budget',\n",
    "    'roi'\n",
    "]].copy()\n",
    "analysis_df.head()"
   ]
  },
  {
   "cell_type": "code",
   "execution_count": 37,
   "metadata": {},
   "outputs": [
    {
     "name": "stdout",
     "output_type": "stream",
     "text": [
      "<class 'pandas.core.frame.DataFrame'>\n",
      "MultiIndex: 1512 entries, (2010, 127 Hours) to (2018, Winchester)\n",
      "Data columns (total 8 columns):\n",
      "runtime_minutes    1502 non-null float64\n",
      "genres             1512 non-null object\n",
      "genre1             1512 non-null object\n",
      "genre2             1512 non-null object\n",
      "genre3             1512 non-null object\n",
      "working_wwg        1512 non-null int64\n",
      "working_budget     1512 non-null int64\n",
      "roi                1512 non-null int64\n",
      "dtypes: float64(1), int64(3), object(4)\n",
      "memory usage: 180.9+ KB\n"
     ]
    }
   ],
   "source": [
    "analysis_df = analysis_df[analysis_df['roi'] != 0]\n",
    "analysis_df = analysis_df[analysis_df['working_wwg'] != -1]\n",
    "analysis_df = analysis_df[analysis_df['working_budget'] != -1]\n",
    "analysis_df.info()"
   ]
  },
  {
   "cell_type": "code",
   "execution_count": 38,
   "metadata": {},
   "outputs": [],
   "source": [
    "analysis_df = analysis_df.reset_index()\n",
    "analysis_df= analysis_df.rename(columns = {'start_year': 'year'})"
   ]
  },
  {
   "cell_type": "markdown",
   "metadata": {},
   "source": [
    "# Analysis"
   ]
  },
  {
   "cell_type": "markdown",
   "metadata": {},
   "source": [
    "## We'll break up the dataframe along certain budget markers and create series through which we can analyse the performance of different genres\n",
    "\n",
    "Note that this method double and tripple counts certain movies with more than one listed genre, which is why it's important for us to eliminate genres with too few examples to prevent skewing."
   ]
  },
  {
   "cell_type": "code",
   "execution_count": 21,
   "metadata": {},
   "outputs": [
    {
     "ename": "NameError",
     "evalue": "name 'analysis_df' is not defined",
     "output_type": "error",
     "traceback": [
      "\u001b[0;31m---------------------------------------------------------------------------\u001b[0m",
      "\u001b[0;31mNameError\u001b[0m                                 Traceback (most recent call last)",
      "\u001b[0;32m<ipython-input-21-19f1ec61f1e1>\u001b[0m in \u001b[0;36m<module>\u001b[0;34m\u001b[0m\n\u001b[0;32m----> 1\u001b[0;31m genre_roi = pd.concat([pd.Series(analysis_df['roi'].values, analysis_df['genre1']),\n\u001b[0m\u001b[1;32m      2\u001b[0m                        \u001b[0mpd\u001b[0m\u001b[0;34m.\u001b[0m\u001b[0mSeries\u001b[0m\u001b[0;34m(\u001b[0m\u001b[0manalysis_df\u001b[0m\u001b[0;34m[\u001b[0m\u001b[0;34m'roi'\u001b[0m\u001b[0;34m]\u001b[0m\u001b[0;34m.\u001b[0m\u001b[0mvalues\u001b[0m\u001b[0;34m,\u001b[0m \u001b[0manalysis_df\u001b[0m\u001b[0;34m[\u001b[0m\u001b[0;34m'genre2'\u001b[0m\u001b[0;34m]\u001b[0m\u001b[0;34m)\u001b[0m\u001b[0;34m,\u001b[0m\u001b[0;34m\u001b[0m\u001b[0;34m\u001b[0m\u001b[0m\n\u001b[1;32m      3\u001b[0m                        pd.Series(analysis_df['roi'].values, analysis_df['genre3'])])\n\u001b[1;32m      4\u001b[0m \u001b[0;34m\u001b[0m\u001b[0m\n\u001b[1;32m      5\u001b[0m \u001b[0manalysis_df_1mil\u001b[0m \u001b[0;34m=\u001b[0m \u001b[0manalysis_df\u001b[0m\u001b[0;34m[\u001b[0m\u001b[0manalysis_df\u001b[0m\u001b[0;34m[\u001b[0m\u001b[0;34m'working_budget'\u001b[0m\u001b[0;34m]\u001b[0m \u001b[0;34m>=\u001b[0m \u001b[0;36m1000000\u001b[0m\u001b[0;34m]\u001b[0m\u001b[0;34m.\u001b[0m\u001b[0mcopy\u001b[0m\u001b[0;34m(\u001b[0m\u001b[0;34m)\u001b[0m\u001b[0;34m\u001b[0m\u001b[0;34m\u001b[0m\u001b[0m\n",
      "\u001b[0;31mNameError\u001b[0m: name 'analysis_df' is not defined"
     ]
    }
   ],
   "source": [
    "genre_roi = pd.concat([pd.Series(analysis_df['roi'].values, analysis_df['genre1']),\n",
    "                       pd.Series(analysis_df['roi'].values, analysis_df['genre2']),\n",
    "                       pd.Series(analysis_df['roi'].values, analysis_df['genre3'])])\n",
    "\n",
    "analysis_df_1mil = analysis_df[analysis_df['working_budget'] >= 1000000].copy()\n",
    "\n",
    "genre_roi1 = pd.concat([pd.Series(analysis_df_1mil['roi'].values, analysis_df_1mil['genre1']),\n",
    "                       pd.Series(analysis_df_1mil['roi'].values, analysis_df_1mil['genre2']),\n",
    "                       pd.Series(analysis_df_1mil['roi'].values, analysis_df_1mil['genre3'])])\n",
    "\n",
    "analysis_df_10mil = analysis_df[analysis_df['working_budget'] >= 10000000].copy()\n",
    "\n",
    "genre_roi10 = pd.concat([pd.Series(analysis_df_10mil['roi'].values, analysis_df_10mil['genre1']),\n",
    "                       pd.Series(analysis_df_10mil['roi'].values, analysis_df_10mil['genre2']),\n",
    "                       pd.Series(analysis_df_10mil['roi'].values, analysis_df_10mil['genre3'])])"
   ]
  },
  {
   "cell_type": "markdown",
   "metadata": {},
   "source": [
    "## Let's check how many of each genre we have so we can prevent skewing"
   ]
  },
  {
   "cell_type": "code",
   "execution_count": null,
   "metadata": {},
   "outputs": [],
   "source": [
    "pd.DataFrame(genre_roi).reset_index()['index'].value_counts()"
   ]
  },
  {
   "cell_type": "code",
   "execution_count": 22,
   "metadata": {},
   "outputs": [
    {
     "ename": "NameError",
     "evalue": "name 'genre_roi1' is not defined",
     "output_type": "error",
     "traceback": [
      "\u001b[0;31m---------------------------------------------------------------------------\u001b[0m",
      "\u001b[0;31mNameError\u001b[0m                                 Traceback (most recent call last)",
      "\u001b[0;32m<ipython-input-22-8dcb8e2d7f6b>\u001b[0m in \u001b[0;36m<module>\u001b[0;34m\u001b[0m\n\u001b[0;32m----> 1\u001b[0;31m \u001b[0mpd\u001b[0m\u001b[0;34m.\u001b[0m\u001b[0mDataFrame\u001b[0m\u001b[0;34m(\u001b[0m\u001b[0mgenre_roi1\u001b[0m\u001b[0;34m)\u001b[0m\u001b[0;34m.\u001b[0m\u001b[0mreset_index\u001b[0m\u001b[0;34m(\u001b[0m\u001b[0;34m)\u001b[0m\u001b[0;34m[\u001b[0m\u001b[0;34m'index'\u001b[0m\u001b[0;34m]\u001b[0m\u001b[0;34m.\u001b[0m\u001b[0mvalue_counts\u001b[0m\u001b[0;34m(\u001b[0m\u001b[0;34m)\u001b[0m\u001b[0;34m\u001b[0m\u001b[0;34m\u001b[0m\u001b[0m\n\u001b[0m",
      "\u001b[0;31mNameError\u001b[0m: name 'genre_roi1' is not defined"
     ]
    }
   ],
   "source": [
    "pd.DataFrame(genre_roi1).reset_index()['index'].value_counts()"
   ]
  },
  {
   "cell_type": "code",
   "execution_count": null,
   "metadata": {},
   "outputs": [],
   "source": [
    "pd.DataFrame(genre_roi10).reset_index()['index'].value_counts()"
   ]
  },
  {
   "cell_type": "code",
   "execution_count": null,
   "metadata": {},
   "outputs": [],
   "source": [
    "genre_roi = genre_roi.drop(labels=['Reality-TV', 'Musical'])\n",
    "genre_roi1 = genre_roi1.drop(labels=['Reality-TV', 'Musical'])\n",
    "genre_roi10 = genre_roi10.drop(labels=['Western', 'Musical'])\n",
    "\n"
   ]
  },
  {
   "cell_type": "markdown",
   "metadata": {},
   "source": [
    "Before we graph these sets, we're going to reset the index and properly name the roi column"
   ]
  },
  {
   "cell_type": "code",
   "execution_count": 23,
   "metadata": {},
   "outputs": [
    {
     "ename": "NameError",
     "evalue": "name 'genre_roi' is not defined",
     "output_type": "error",
     "traceback": [
      "\u001b[0;31m---------------------------------------------------------------------------\u001b[0m",
      "\u001b[0;31mNameError\u001b[0m                                 Traceback (most recent call last)",
      "\u001b[0;32m<ipython-input-23-67cb9a0f6139>\u001b[0m in \u001b[0;36m<module>\u001b[0;34m\u001b[0m\n\u001b[0;32m----> 1\u001b[0;31m \u001b[0mgenre_roi_df\u001b[0m \u001b[0;34m=\u001b[0m \u001b[0mpd\u001b[0m\u001b[0;34m.\u001b[0m\u001b[0mDataFrame\u001b[0m\u001b[0;34m(\u001b[0m\u001b[0mgenre_roi\u001b[0m\u001b[0;34m)\u001b[0m\u001b[0;34m.\u001b[0m\u001b[0mreset_index\u001b[0m\u001b[0;34m(\u001b[0m\u001b[0;34m)\u001b[0m\u001b[0;34m.\u001b[0m\u001b[0mrename\u001b[0m\u001b[0;34m(\u001b[0m\u001b[0mcolumns\u001b[0m\u001b[0;34m=\u001b[0m\u001b[0;34m{\u001b[0m\u001b[0;36m0\u001b[0m\u001b[0;34m:\u001b[0m\u001b[0;34m'roi'\u001b[0m\u001b[0;34m}\u001b[0m\u001b[0;34m)\u001b[0m\u001b[0;34m\u001b[0m\u001b[0;34m\u001b[0m\u001b[0m\n\u001b[0m\u001b[1;32m      2\u001b[0m \u001b[0mgenre_roi1_df\u001b[0m \u001b[0;34m=\u001b[0m \u001b[0mpd\u001b[0m\u001b[0;34m.\u001b[0m\u001b[0mDataFrame\u001b[0m\u001b[0;34m(\u001b[0m\u001b[0mgenre_roi1\u001b[0m\u001b[0;34m)\u001b[0m\u001b[0;34m.\u001b[0m\u001b[0mreset_index\u001b[0m\u001b[0;34m(\u001b[0m\u001b[0;34m)\u001b[0m\u001b[0;34m.\u001b[0m\u001b[0mrename\u001b[0m\u001b[0;34m(\u001b[0m\u001b[0mcolumns\u001b[0m\u001b[0;34m=\u001b[0m\u001b[0;34m{\u001b[0m\u001b[0;36m0\u001b[0m\u001b[0;34m:\u001b[0m\u001b[0;34m'roi'\u001b[0m\u001b[0;34m}\u001b[0m\u001b[0;34m)\u001b[0m\u001b[0;34m\u001b[0m\u001b[0;34m\u001b[0m\u001b[0m\n\u001b[1;32m      3\u001b[0m \u001b[0mgenre_roi10_df\u001b[0m \u001b[0;34m=\u001b[0m \u001b[0mpd\u001b[0m\u001b[0;34m.\u001b[0m\u001b[0mDataFrame\u001b[0m\u001b[0;34m(\u001b[0m\u001b[0mgenre_roi10\u001b[0m\u001b[0;34m)\u001b[0m\u001b[0;34m.\u001b[0m\u001b[0mreset_index\u001b[0m\u001b[0;34m(\u001b[0m\u001b[0;34m)\u001b[0m\u001b[0;34m.\u001b[0m\u001b[0mrename\u001b[0m\u001b[0;34m(\u001b[0m\u001b[0mcolumns\u001b[0m\u001b[0;34m=\u001b[0m\u001b[0;34m{\u001b[0m\u001b[0;36m0\u001b[0m\u001b[0;34m:\u001b[0m\u001b[0;34m'roi'\u001b[0m\u001b[0;34m}\u001b[0m\u001b[0;34m)\u001b[0m\u001b[0;34m\u001b[0m\u001b[0;34m\u001b[0m\u001b[0m\n",
      "\u001b[0;31mNameError\u001b[0m: name 'genre_roi' is not defined"
     ]
    }
   ],
   "source": [
    "genre_roi_df = pd.DataFrame(genre_roi).reset_index().rename(columns={0:'roi'})\n",
    "genre_roi1_df = pd.DataFrame(genre_roi1).reset_index().rename(columns={0:'roi'})\n",
    "genre_roi10_df = pd.DataFrame(genre_roi10).reset_index().rename(columns={0:'roi'})"
   ]
  },
  {
   "cell_type": "markdown",
   "metadata": {},
   "source": [
    "## General genre return on investment breakdown (no budget floor, excluded genres with fewer than 10 films in dataset)\n"
   ]
  },
  {
   "cell_type": "code",
   "execution_count": null,
   "metadata": {},
   "outputs": [],
   "source": [
    "my_order = genre_roi_df.groupby(\"index\")[\"roi\"].mean().sort_values().iloc[::-1].index\n",
    "\n",
    "\n",
    "plt.figure(figsize=(15, 7))\n",
    "\n",
    "ax = sns.boxplot(x=genre_roi_df['index'], y=genre_roi_df['roi'], data=(genre_roi_df), order=my_order)\n",
    "plt.setp(ax.get_xticklabels(), rotation=45, fontsize=10)\n",
    "plt.setp(ax.get_yticklabels(), fontsize = 10)\n",
    "\n",
    "ax.set_title('Profit by Genre since 2000', fontsize = 17)\n",
    "ax.set_xlabel('Genre', fontsize=15);\n",
    "ax.set_ylabel('Return on Investment (in Billions)', fontsize=15);"
   ]
  },
  {
   "cell_type": "markdown",
   "metadata": {},
   "source": [
    "## General genre return on investment breakdown (budget >$1 million,  excluded genres with fewer than 10 films in dataset)\n"
   ]
  },
  {
   "cell_type": "code",
   "execution_count": 24,
   "metadata": {},
   "outputs": [
    {
     "ename": "NameError",
     "evalue": "name 'genre_roi1_df' is not defined",
     "output_type": "error",
     "traceback": [
      "\u001b[0;31m---------------------------------------------------------------------------\u001b[0m",
      "\u001b[0;31mNameError\u001b[0m                                 Traceback (most recent call last)",
      "\u001b[0;32m<ipython-input-24-97f8b788b322>\u001b[0m in \u001b[0;36m<module>\u001b[0;34m\u001b[0m\n\u001b[0;32m----> 1\u001b[0;31m \u001b[0mmy_order\u001b[0m \u001b[0;34m=\u001b[0m \u001b[0mgenre_roi1_df\u001b[0m\u001b[0;34m.\u001b[0m\u001b[0mgroupby\u001b[0m\u001b[0;34m(\u001b[0m\u001b[0;34m\"index\"\u001b[0m\u001b[0;34m)\u001b[0m\u001b[0;34m[\u001b[0m\u001b[0;34m\"roi\"\u001b[0m\u001b[0;34m]\u001b[0m\u001b[0;34m.\u001b[0m\u001b[0mmean\u001b[0m\u001b[0;34m(\u001b[0m\u001b[0;34m)\u001b[0m\u001b[0;34m.\u001b[0m\u001b[0msort_values\u001b[0m\u001b[0;34m(\u001b[0m\u001b[0;34m)\u001b[0m\u001b[0;34m.\u001b[0m\u001b[0miloc\u001b[0m\u001b[0;34m[\u001b[0m\u001b[0;34m:\u001b[0m\u001b[0;34m:\u001b[0m\u001b[0;34m-\u001b[0m\u001b[0;36m1\u001b[0m\u001b[0;34m]\u001b[0m\u001b[0;34m.\u001b[0m\u001b[0mindex\u001b[0m\u001b[0;34m\u001b[0m\u001b[0;34m\u001b[0m\u001b[0m\n\u001b[0m\u001b[1;32m      2\u001b[0m \u001b[0;34m\u001b[0m\u001b[0m\n\u001b[1;32m      3\u001b[0m \u001b[0;34m\u001b[0m\u001b[0m\n\u001b[1;32m      4\u001b[0m \u001b[0mplt\u001b[0m\u001b[0;34m.\u001b[0m\u001b[0mfigure\u001b[0m\u001b[0;34m(\u001b[0m\u001b[0mfigsize\u001b[0m\u001b[0;34m=\u001b[0m\u001b[0;34m(\u001b[0m\u001b[0;36m15\u001b[0m\u001b[0;34m,\u001b[0m \u001b[0;36m7\u001b[0m\u001b[0;34m)\u001b[0m\u001b[0;34m)\u001b[0m\u001b[0;34m\u001b[0m\u001b[0;34m\u001b[0m\u001b[0m\n\u001b[1;32m      5\u001b[0m \u001b[0;34m\u001b[0m\u001b[0m\n",
      "\u001b[0;31mNameError\u001b[0m: name 'genre_roi1_df' is not defined"
     ]
    }
   ],
   "source": [
    "my_order = genre_roi1_df.groupby(\"index\")[\"roi\"].mean().sort_values().iloc[::-1].index\n",
    "\n",
    "\n",
    "plt.figure(figsize=(15, 7))\n",
    "\n",
    "ax = sns.boxplot(x=genre_roi1_df['index'], y=genre_roi1_df['roi'], data=(genre_roi1_df), order=my_order)\n",
    "plt.setp(ax.get_xticklabels(), rotation=45, fontsize=10)\n",
    "plt.setp(ax.get_yticklabels(), fontsize = 10)\n",
    "\n",
    "ax.set_title('Profit by Genre since 2000 (Budget > $1 Million)', fontsize = 17)\n",
    "ax.set_xlabel('Genre', fontsize=15);\n",
    "ax.set_ylabel('Return on Investment (in Billions)', fontsize=15);"
   ]
  },
  {
   "cell_type": "markdown",
   "metadata": {},
   "source": [
    "## General genre return on investment breakdown (budget >$10 million,  excluded genres with fewer than 10 films in dataset)\n"
   ]
  },
  {
   "cell_type": "code",
   "execution_count": null,
   "metadata": {},
   "outputs": [],
   "source": [
    "my_order = genre_roi10_df.groupby(\"index\")[\"roi\"].mean().sort_values().iloc[::-1].index\n",
    "\n",
    "\n",
    "plt.figure(figsize=(15, 7))\n",
    "\n",
    "ax = sns.boxplot(x=genre_roi10_df['index'], y=genre_roi10_df['roi'], data=(genre_roi10_df), order=my_order)\n",
    "plt.setp(ax.get_xticklabels(), rotation=45, fontsize=10)\n",
    "plt.setp(ax.get_yticklabels(), fontsize = 10)\n",
    "\n",
    "ax.set_title('Profit by Genre since 2000 (Budget > $10 Million)', fontsize = 17)\n",
    "ax.set_xlabel('Genre', fontsize=15);\n",
    "ax.set_ylabel('Return on Investment (in millons)', fontsize=15);"
   ]
  },
  {
   "cell_type": "code",
   "execution_count": 25,
   "metadata": {},
   "outputs": [
    {
     "ename": "NameError",
     "evalue": "name 'analysis_df_1mil' is not defined",
     "output_type": "error",
     "traceback": [
      "\u001b[0;31m---------------------------------------------------------------------------\u001b[0m",
      "\u001b[0;31mNameError\u001b[0m                                 Traceback (most recent call last)",
      "\u001b[0;32m<ipython-input-25-3dd2909303b5>\u001b[0m in \u001b[0;36m<module>\u001b[0;34m\u001b[0m\n\u001b[0;32m----> 1\u001b[0;31m genre_roi2_scifi = pd.DataFrame(pd.concat([pd.Series(analysis_df_1mil.loc[analysis_df_1mil['genre1'] == 'Sci-Fi']['year'].values, analysis_df_1mil.loc[analysis_df_1mil['genre1'] == 'Sci-Fi']['roi']),\n\u001b[0m\u001b[1;32m      2\u001b[0m                                \u001b[0mpd\u001b[0m\u001b[0;34m.\u001b[0m\u001b[0mSeries\u001b[0m\u001b[0;34m(\u001b[0m\u001b[0manalysis_df_1mil\u001b[0m\u001b[0;34m.\u001b[0m\u001b[0mloc\u001b[0m\u001b[0;34m[\u001b[0m\u001b[0manalysis_df_1mil\u001b[0m\u001b[0;34m[\u001b[0m\u001b[0;34m'genre2'\u001b[0m\u001b[0;34m]\u001b[0m \u001b[0;34m==\u001b[0m \u001b[0;34m'Sci-Fi'\u001b[0m\u001b[0;34m]\u001b[0m\u001b[0;34m[\u001b[0m\u001b[0;34m'year'\u001b[0m\u001b[0;34m]\u001b[0m\u001b[0;34m.\u001b[0m\u001b[0mvalues\u001b[0m\u001b[0;34m,\u001b[0m \u001b[0manalysis_df_1mil\u001b[0m\u001b[0;34m.\u001b[0m\u001b[0mloc\u001b[0m\u001b[0;34m[\u001b[0m\u001b[0manalysis_df_1mil\u001b[0m\u001b[0;34m[\u001b[0m\u001b[0;34m'genre2'\u001b[0m\u001b[0;34m]\u001b[0m \u001b[0;34m==\u001b[0m \u001b[0;34m'Sci-Fi'\u001b[0m\u001b[0;34m]\u001b[0m\u001b[0;34m[\u001b[0m\u001b[0;34m'roi'\u001b[0m\u001b[0;34m]\u001b[0m\u001b[0;34m)\u001b[0m\u001b[0;34m,\u001b[0m\u001b[0;34m\u001b[0m\u001b[0;34m\u001b[0m\u001b[0m\n\u001b[1;32m      3\u001b[0m                                pd.Series(analysis_df_1mil.loc[analysis_df_1mil['genre3'] == 'Sci-Fi']['year'].values, analysis_df_1mil.loc[analysis_df_1mil['genre3'] == 'Sci-Fi']['roi'])]\n\u001b[1;32m      4\u001b[0m                               )).reset_index().rename(columns={0:'year'})\n\u001b[1;32m      5\u001b[0m \u001b[0;34m\u001b[0m\u001b[0m\n",
      "\u001b[0;31mNameError\u001b[0m: name 'analysis_df_1mil' is not defined"
     ]
    }
   ],
   "source": [
    "genre_roi2_scifi = pd.DataFrame(pd.concat([pd.Series(analysis_df_1mil.loc[analysis_df_1mil['genre1'] == 'Sci-Fi']['year'].values, analysis_df_1mil.loc[analysis_df_1mil['genre1'] == 'Sci-Fi']['roi']),\n",
    "                               pd.Series(analysis_df_1mil.loc[analysis_df_1mil['genre2'] == 'Sci-Fi']['year'].values, analysis_df_1mil.loc[analysis_df_1mil['genre2'] == 'Sci-Fi']['roi']),\n",
    "                               pd.Series(analysis_df_1mil.loc[analysis_df_1mil['genre3'] == 'Sci-Fi']['year'].values, analysis_df_1mil.loc[analysis_df_1mil['genre3'] == 'Sci-Fi']['roi'])]\n",
    "                              )).reset_index().rename(columns={0:'year'})\n",
    "\n",
    "grouped_mean = genre_roi2_scifi.groupby('year').mean()\n",
    "\n",
    "ax = sns.lineplot(x= grouped_mean.index, y=grouped_mean.roi, data=grouped_mean)\n",
    "plt.ylim(0, 450000000)\n",
    "ax.set_title('Mean Return on Investment', fontsize = 17)\n",
    "ax.set_xlabel('Genre', fontsize=15);\n",
    "ax.set_ylabel('Return on Investment (in millons)', fontsize=15);"
   ]
  },
  {
   "cell_type": "code",
   "execution_count": null,
   "metadata": {},
   "outputs": [],
   "source": [
    "working_df[working_df['genres'].str.contains('Sci-Fi')]"
   ]
  },
  {
   "cell_type": "markdown",
   "metadata": {},
   "source": [
    "## group by runtime_minutes\n"
   ]
  },
  {
   "cell_type": "code",
   "execution_count": 26,
   "metadata": {},
   "outputs": [
    {
     "ename": "NameError",
     "evalue": "name 'analysis_df_1mil' is not defined",
     "output_type": "error",
     "traceback": [
      "\u001b[0;31m---------------------------------------------------------------------------\u001b[0m",
      "\u001b[0;31mNameError\u001b[0m                                 Traceback (most recent call last)",
      "\u001b[0;32m<ipython-input-26-d76188a95f0f>\u001b[0m in \u001b[0;36m<module>\u001b[0;34m\u001b[0m\n\u001b[0;32m----> 1\u001b[0;31m \u001b[0manalysis_df_runtime_grouped\u001b[0m \u001b[0;34m=\u001b[0m \u001b[0manalysis_df_1mil\u001b[0m\u001b[0;34m.\u001b[0m\u001b[0mcopy\u001b[0m\u001b[0;34m(\u001b[0m\u001b[0;34m)\u001b[0m\u001b[0;34m\u001b[0m\u001b[0;34m\u001b[0m\u001b[0m\n\u001b[0m",
      "\u001b[0;31mNameError\u001b[0m: name 'analysis_df_1mil' is not defined"
     ]
    }
   ],
   "source": [
    "analysis_df_runtime_grouped = analysis_df_1mil.copy()"
   ]
  },
  {
   "cell_type": "code",
   "execution_count": null,
   "metadata": {},
   "outputs": [],
   "source": [
    "analysis_df_runtime_grouped['runtime_desc'] = analysis_df_runtime_grouped.apply(\n",
    "    lambda x: 'short' if x['runtime_minutes'] <= 95.0 else(\n",
    "        'medium' if x['runtime_minutes'] <= 118.0 else 'long'), axis = 1\n",
    ")"
   ]
  },
  {
   "cell_type": "code",
   "execution_count": null,
   "metadata": {},
   "outputs": [],
   "source": [
    "ax = sns.boxplot(x=analysis_df_runtime_grouped['runtime_desc'], y=analysis_df_runtime_grouped['roi'], data=analysis_df_runtime_grouped)\n"
   ]
  },
  {
   "cell_type": "markdown",
   "metadata": {},
   "source": [
    "## Looking for trends in Adventure/Sci-Fi"
   ]
  },
  {
   "cell_type": "code",
   "execution_count": 27,
   "metadata": {},
   "outputs": [
    {
     "ename": "NameError",
     "evalue": "name 'analysis_df_1mil' is not defined",
     "output_type": "error",
     "traceback": [
      "\u001b[0;31m---------------------------------------------------------------------------\u001b[0m",
      "\u001b[0;31mNameError\u001b[0m                                 Traceback (most recent call last)",
      "\u001b[0;32m<ipython-input-27-cd62ce982483>\u001b[0m in \u001b[0;36m<module>\u001b[0;34m\u001b[0m\n\u001b[0;32m----> 1\u001b[0;31m analysis_df_1mil.loc[((analysis_df_1mil['genre3'] == 'Sci-Fi') |\n\u001b[0m\u001b[1;32m      2\u001b[0m                   \u001b[0;34m(\u001b[0m\u001b[0manalysis_df_1mil\u001b[0m\u001b[0;34m[\u001b[0m\u001b[0;34m'genre2'\u001b[0m\u001b[0;34m]\u001b[0m \u001b[0;34m==\u001b[0m \u001b[0;34m'Sci-Fi'\u001b[0m\u001b[0;34m)\u001b[0m \u001b[0;34m|\u001b[0m\u001b[0;34m\u001b[0m\u001b[0;34m\u001b[0m\u001b[0m\n\u001b[1;32m      3\u001b[0m                   \u001b[0;34m(\u001b[0m\u001b[0manalysis_df_1mil\u001b[0m\u001b[0;34m[\u001b[0m\u001b[0;34m'genre1'\u001b[0m\u001b[0;34m]\u001b[0m \u001b[0;34m==\u001b[0m \u001b[0;34m'Sci-Fi'\u001b[0m\u001b[0;34m)\u001b[0m \u001b[0;34m)\u001b[0m\u001b[0;34m&\u001b[0m\u001b[0;34m(\u001b[0m\u001b[0;34m\u001b[0m\u001b[0;34m\u001b[0m\u001b[0m\n\u001b[1;32m      4\u001b[0m                     \u001b[0;34m(\u001b[0m\u001b[0manalysis_df_1mil\u001b[0m\u001b[0;34m[\u001b[0m\u001b[0;34m'genre3'\u001b[0m\u001b[0;34m]\u001b[0m \u001b[0;34m==\u001b[0m \u001b[0;34m'Adventure'\u001b[0m\u001b[0;34m)\u001b[0m \u001b[0;34m|\u001b[0m\u001b[0;34m\u001b[0m\u001b[0;34m\u001b[0m\u001b[0m\n\u001b[1;32m      5\u001b[0m                     \u001b[0;34m(\u001b[0m\u001b[0manalysis_df_1mil\u001b[0m\u001b[0;34m[\u001b[0m\u001b[0;34m'genre2'\u001b[0m\u001b[0;34m]\u001b[0m \u001b[0;34m==\u001b[0m \u001b[0;34m'Adventure'\u001b[0m\u001b[0;34m)\u001b[0m \u001b[0;34m|\u001b[0m\u001b[0;34m\u001b[0m\u001b[0;34m\u001b[0m\u001b[0m\n",
      "\u001b[0;31mNameError\u001b[0m: name 'analysis_df_1mil' is not defined"
     ]
    }
   ],
   "source": [
    "analysis_df_1mil.loc[((analysis_df_1mil['genre3'] == 'Sci-Fi') |\n",
    "                  (analysis_df_1mil['genre2'] == 'Sci-Fi') |\n",
    "                  (analysis_df_1mil['genre1'] == 'Sci-Fi') )&(\n",
    "                    (analysis_df_1mil['genre3'] == 'Adventure') |\n",
    "                    (analysis_df_1mil['genre2'] == 'Adventure') |\n",
    "                    (analysis_df_1mil['genre1'] == 'Adventure'))\n",
    "                 ].sort_values(by = 'roi', ascending=False).reset_index().style.apply(\n",
    "                lambda x: ['background: #00a4ef' if x.title == 'Inception' or x.title == 'Interstellar' else '' for i in x], axis = 1)"
   ]
  },
  {
   "cell_type": "markdown",
   "metadata": {},
   "source": [
    "Christopher Nolan movies are the only non-lisenced films on the list until number 49 - Paul"
   ]
  },
  {
   "cell_type": "code",
   "execution_count": null,
   "metadata": {},
   "outputs": [],
   "source": []
  }
 ],
 "metadata": {
  "kernelspec": {
   "display_name": "Python 3",
   "language": "python",
   "name": "python3"
  },
  "language_info": {
   "codemirror_mode": {
    "name": "ipython",
    "version": 3
   },
   "file_extension": ".py",
   "mimetype": "text/x-python",
   "name": "python",
   "nbconvert_exporter": "python",
   "pygments_lexer": "ipython3",
   "version": "3.7.3"
  }
 },
 "nbformat": 4,
 "nbformat_minor": 2
}
